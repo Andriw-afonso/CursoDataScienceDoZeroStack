{
  "nbformat": 4,
  "nbformat_minor": 0,
  "metadata": {
    "colab": {
      "name": "Séries Temporais - Notebook 01.ipynb",
      "provenance": [],
      "collapsed_sections": [
        "VYb28Y2gvsJK",
        "2qz0LqUzvajg",
        "_uPyQMtu626q",
        "fI2XLDpgY4ED",
        "tH7nJ9OLuDsW",
        "hgVIRtad9_U4",
        "7UfK5TM1Au6Y",
        "GlvvJzZvb7K5",
        "j31KrHb0yYoB",
        "MXKMUZQi__Zw",
        "8B4HNql2aPmA",
        "mCPix2MdORDh",
        "Bu1rEmecif4o",
        "TYwxlxI1uVX-"
      ]
    },
    "kernelspec": {
      "name": "python3",
      "display_name": "Python 3"
    }
  },
  "cells": [
    {
      "cell_type": "markdown",
      "metadata": {
        "id": "BPQyEDpP1u-T",
        "colab_type": "text"
      },
      "source": [
        "### Bibliotecas úteis para Time Series com Python\n",
        "\n",
        "\n",
        "*   Pandas\n",
        "*   Scikit-learn\n",
        "*   Numpy\n",
        "*   Statsmodel\n",
        "\n"
      ]
    },
    {
      "cell_type": "markdown",
      "metadata": {
        "id": "_2Tpxr_I2jV7",
        "colab_type": "text"
      },
      "source": [
        "### Explorando os dados"
      ]
    },
    {
      "cell_type": "code",
      "metadata": {
        "id": "H9uenSiwtDE0",
        "colab_type": "code",
        "colab": {}
      },
      "source": [
        "from google.colab import drive\n",
        "drive.mount('/content/drive')"
      ],
      "execution_count": null,
      "outputs": []
    },
    {
      "cell_type": "code",
      "metadata": {
        "id": "f7ysZAdQ5v3A",
        "colab_type": "code",
        "colab": {}
      },
      "source": [
        "import pandas as pd\n",
        "series = pd.read_csv('/content/drive/My Drive/Curso Séries Temporais/Materiais de Apoio/champagne_sales.csv')"
      ],
      "execution_count": null,
      "outputs": []
    },
    {
      "cell_type": "code",
      "metadata": {
        "id": "PU5T4HWo3U1P",
        "colab_type": "code",
        "colab": {}
      },
      "source": [
        "type(series)"
      ],
      "execution_count": null,
      "outputs": []
    },
    {
      "cell_type": "code",
      "metadata": {
        "id": "i-14rpZbEvsJ",
        "colab_type": "code",
        "colab": {}
      },
      "source": [
        "series.tail()"
      ],
      "execution_count": null,
      "outputs": []
    },
    {
      "cell_type": "markdown",
      "metadata": {
        "id": "sQZRKwarE14u",
        "colab_type": "text"
      },
      "source": [
        "\n",
        "\n",
        "*   **header=0** : A informação de colunas está na primeira linha do arquivo\n",
        "*   **parse_date=True** : Sinalizamos que o dataset contém coluna do tipo date.\n",
        "*   **index_col=0** : Definimos nossa coluna indice que é a informação temporal.\n",
        "*   **squeeze=True**: Sinalizamos que nos temos apenas um dado de coluna e que queremos transformar isso em uma série e não em um dataframe.\n",
        "\n"
      ]
    },
    {
      "cell_type": "code",
      "metadata": {
        "id": "Y-KWI77e1r9Q",
        "colab_type": "code",
        "colab": {}
      },
      "source": [
        "from pandas import read_csv\n",
        "series = read_csv('/content/drive/My Drive/Curso Séries Temporais/Materiais de Apoio/champagne_sales.csv', header=0, index_col=0, parse_dates=True, squeeze=True)"
      ],
      "execution_count": null,
      "outputs": []
    },
    {
      "cell_type": "markdown",
      "metadata": {
        "id": "BEMiIHPe3sh4",
        "colab_type": "text"
      },
      "source": [
        "**Explorando e resumindo os dados**"
      ]
    },
    {
      "cell_type": "code",
      "metadata": {
        "id": "b2UK-f1j3yxA",
        "colab_type": "code",
        "colab": {}
      },
      "source": [
        "series.describe()"
      ],
      "execution_count": null,
      "outputs": []
    },
    {
      "cell_type": "markdown",
      "metadata": {
        "id": "ojtcsfEg8mXV",
        "colab_type": "text"
      },
      "source": [
        "**Visualizando dados**"
      ]
    },
    {
      "cell_type": "code",
      "metadata": {
        "id": "JANb_abE8jBF",
        "colab_type": "code",
        "colab": {}
      },
      "source": [
        "import matplotlib.pyplot as plt\n",
        "series.plot(figsize=(10,5), \n",
        "            linewidth=3, \n",
        "            fontsize=10,\n",
        "            title='Vendas ao longo dos anos')\n",
        "plt.xlabel('Ano', fontsize=10);"
      ],
      "execution_count": null,
      "outputs": []
    },
    {
      "cell_type": "markdown",
      "metadata": {
        "id": "76hfK4Ly8QL0",
        "colab_type": "text"
      },
      "source": [
        "**Vendas no ano de 1964 e 1965**"
      ]
    },
    {
      "cell_type": "code",
      "metadata": {
        "id": "iMYAxp588EhW",
        "colab_type": "code",
        "colab": {}
      },
      "source": [
        "series['1964']"
      ],
      "execution_count": null,
      "outputs": []
    },
    {
      "cell_type": "code",
      "metadata": {
        "id": "0s9Bm6nM8bEF",
        "colab_type": "code",
        "colab": {}
      },
      "source": [
        "series['1965-01']"
      ],
      "execution_count": null,
      "outputs": []
    },
    {
      "cell_type": "code",
      "metadata": {
        "id": "qM65yJJfvVr-",
        "colab_type": "code",
        "colab": {}
      },
      "source": [
        "series.index"
      ],
      "execution_count": null,
      "outputs": []
    },
    {
      "cell_type": "code",
      "metadata": {
        "id": "w9viLE5Gvmd0",
        "colab_type": "code",
        "colab": {}
      },
      "source": [
        "series.values"
      ],
      "execution_count": null,
      "outputs": []
    },
    {
      "cell_type": "markdown",
      "metadata": {
        "id": "epOCY_VfY7m3",
        "colab_type": "text"
      },
      "source": [
        "**Vendas por mês de cada ano**"
      ]
    },
    {
      "cell_type": "code",
      "metadata": {
        "id": "mHBp7hfPXCSS",
        "colab_type": "code",
        "colab": {}
      },
      "source": [
        "from pandas import Grouper\n",
        "from matplotlib import pyplot\n",
        "from pandas import DataFrame"
      ],
      "execution_count": null,
      "outputs": []
    },
    {
      "cell_type": "code",
      "metadata": {
        "id": "fCdoqoy3LvTu",
        "colab_type": "code",
        "colab": {}
      },
      "source": [
        "series"
      ],
      "execution_count": null,
      "outputs": []
    },
    {
      "cell_type": "code",
      "metadata": {
        "id": "NxB2WTMtLhLQ",
        "colab_type": "code",
        "colab": {}
      },
      "source": [
        "# Removendo os dados do ano 1972 por este ano ter menos dados\n",
        "series.drop(series['1972'].index, inplace=True)"
      ],
      "execution_count": null,
      "outputs": []
    },
    {
      "cell_type": "code",
      "metadata": {
        "id": "meBcld_hXCDl",
        "colab_type": "code",
        "colab": {}
      },
      "source": [
        "grupos = series.groupby(Grouper(freq='A'))\n",
        "anos = DataFrame()\n",
        "for nome, grupo in grupos:\n",
        "  anos[nome.year] = grupo.values"
      ],
      "execution_count": null,
      "outputs": []
    },
    {
      "cell_type": "code",
      "metadata": {
        "id": "kDu8rRMRYg25",
        "colab_type": "code",
        "colab": {}
      },
      "source": [
        "anos"
      ],
      "execution_count": null,
      "outputs": []
    },
    {
      "cell_type": "code",
      "metadata": {
        "id": "zO2ZDW0zZF8z",
        "colab_type": "code",
        "colab": {}
      },
      "source": [
        "anos.plot(figsize=(10,5)\n",
        "          ,subplots=True\n",
        "          ,title='Vendas em meses por anos')"
      ],
      "execution_count": null,
      "outputs": []
    },
    {
      "cell_type": "markdown",
      "metadata": {
        "id": "f5r86SB_ZIId",
        "colab_type": "text"
      },
      "source": [
        "**Vendas por ano - Gráfico de pontos**"
      ]
    },
    {
      "cell_type": "code",
      "metadata": {
        "id": "siislBBm8tdV",
        "colab_type": "code",
        "colab": {}
      },
      "source": [
        "series.plot(style='k.')"
      ],
      "execution_count": null,
      "outputs": []
    },
    {
      "cell_type": "markdown",
      "metadata": {
        "id": "FxxIsWMM9dAX",
        "colab_type": "text"
      },
      "source": [
        "**Visualizando a distribuição da série**"
      ]
    },
    {
      "cell_type": "code",
      "metadata": {
        "id": "rPKj6oVJ9dLL",
        "colab_type": "code",
        "colab": {}
      },
      "source": [
        "series.hist()"
      ],
      "execution_count": null,
      "outputs": []
    },
    {
      "cell_type": "markdown",
      "metadata": {
        "id": "o0RPiLzk_5uD",
        "colab_type": "text"
      },
      "source": [
        "**Gráfico de Densidade**"
      ]
    },
    {
      "cell_type": "code",
      "metadata": {
        "id": "NjEDWnyH_h4A",
        "colab_type": "code",
        "colab": {}
      },
      "source": [
        "series.plot(kind='kde')"
      ],
      "execution_count": null,
      "outputs": []
    },
    {
      "cell_type": "markdown",
      "metadata": {
        "id": "-0MSMqGtDb0G",
        "colab_type": "text"
      },
      "source": [
        "**Visualizando Outliers por anos**"
      ]
    },
    {
      "cell_type": "code",
      "metadata": {
        "id": "ZnEXVS8B_iFt",
        "colab_type": "code",
        "colab": {}
      },
      "source": [
        "grupos = series.groupby(Grouper(freq='A'))\n",
        "anos = DataFrame() \n",
        "for nome, grupo in grupos:\n",
        "  anos[nome.year] = grupo.values\n",
        "anos.boxplot(figsize=(10,5))"
      ],
      "execution_count": null,
      "outputs": []
    },
    {
      "cell_type": "markdown",
      "metadata": {
        "id": "fVl_fLD-ZvOB",
        "colab_type": "text"
      },
      "source": [
        "**Dispersão de valores e lags**\n",
        "\n",
        "\n",
        "*   Visualizando a dispersão entre o valor t e t+n\n",
        "\n"
      ]
    },
    {
      "cell_type": "code",
      "metadata": {
        "id": "J_qv8c1Yaqoy",
        "colab_type": "code",
        "colab": {}
      },
      "source": [
        "from pandas.plotting import lag_plot\n",
        "lag_plot(series, lag=1)"
      ],
      "execution_count": null,
      "outputs": []
    },
    {
      "cell_type": "markdown",
      "metadata": {
        "id": "MaZV_Pi7Z2ir",
        "colab_type": "text"
      },
      "source": [
        "**Autocorrelação**\n",
        "\n",
        "\n",
        "\n",
        "1.   Mede a autocorrelação entre os lags.\n",
        "2.   Ao execer as linhas pontilhadas mostra relevância estatística.\n",
        "\n"
      ]
    },
    {
      "cell_type": "code",
      "metadata": {
        "id": "Mz4tKURLz-Ka",
        "colab_type": "code",
        "colab": {}
      },
      "source": [
        "from pandas.plotting import autocorrelation_plot\n",
        "autocorrelation_plot(series)"
      ],
      "execution_count": null,
      "outputs": []
    },
    {
      "cell_type": "markdown",
      "metadata": {
        "id": "dljF4kae3Mxa",
        "colab_type": "text"
      },
      "source": [
        "**Autocorrelação com Statsmodels**"
      ]
    },
    {
      "cell_type": "markdown",
      "metadata": {
        "id": "EcNv-aFSolMf",
        "colab_type": "text"
      },
      "source": [
        "\n",
        "\n",
        "*   Calcula a correlação com lags.\n",
        "*   Pode ser utilizado para configurações de modelos de previsão.\n",
        "*   Exibe o intervalo de confiança de 95% por padrão."
      ]
    },
    {
      "cell_type": "code",
      "metadata": {
        "id": "Q-Rg3Vpufiju",
        "colab_type": "code",
        "colab": {}
      },
      "source": [
        "from statsmodels.graphics.tsaplots import plot_acf\n",
        "from statsmodels.graphics.tsaplots import plot_pacf\n",
        "from matplotlib import pyplot"
      ],
      "execution_count": null,
      "outputs": []
    },
    {
      "cell_type": "code",
      "metadata": {
        "id": "mUbWuEIEUgQU",
        "colab_type": "code",
        "colab": {}
      },
      "source": [
        "plot_acf(series, lags=40)\n",
        "pyplot.show()"
      ],
      "execution_count": null,
      "outputs": []
    },
    {
      "cell_type": "markdown",
      "metadata": {
        "id": "vaQkNb0uzfEs",
        "colab_type": "text"
      },
      "source": [
        "###Modelando Dados"
      ]
    },
    {
      "cell_type": "markdown",
      "metadata": {
        "id": "pgZ-KmoIsCI5",
        "colab_type": "text"
      },
      "source": [
        "Remodelar os dados envolve alterar a frequência das observacoes em dois tipos:\n",
        "\n",
        " **Upsampling**: Significa aumentar a frequencia das amostras, como por exemplo, minutos para segundos.\n",
        "\n",
        " **Downsampling**: Significa diminuir a frequencia das amostras, como por exemplo, dias para meses.\n",
        "\n",
        "Existem duas principais razoes porque queremos remodelar nossos dados:\n",
        "\n",
        " **Problem Framing**: Remodelar os dados para trabalhar na mesma frequencia que as predicoes que iremos entregar.\n",
        "\n",
        " **Feature Engineering**: Remodelar os dados podem entregar insights e informações importantes para modelos de machine learning."
      ]
    },
    {
      "cell_type": "code",
      "metadata": {
        "id": "V0OKGiuG3f7w",
        "colab_type": "code",
        "colab": {}
      },
      "source": [
        "resample = series.resample('2M')"
      ],
      "execution_count": null,
      "outputs": []
    },
    {
      "cell_type": "code",
      "metadata": {
        "id": "TKswPBmd3f3I",
        "colab_type": "code",
        "colab": {}
      },
      "source": [
        "type(resample)"
      ],
      "execution_count": null,
      "outputs": []
    },
    {
      "cell_type": "code",
      "metadata": {
        "id": "vkL0P7JS5PMr",
        "colab_type": "code",
        "colab": {}
      },
      "source": [
        "print(resample)"
      ],
      "execution_count": null,
      "outputs": []
    },
    {
      "cell_type": "markdown",
      "metadata": {
        "id": "R6CWv7rSz6TB",
        "colab_type": "text"
      },
      "source": [
        "Cria uma variável para receber os dados do tipo série."
      ]
    },
    {
      "cell_type": "code",
      "metadata": {
        "id": "PBJG7fwR3ftP",
        "colab_type": "code",
        "colab": {}
      },
      "source": [
        "vendas_medias_dois_meses = resample.mean()"
      ],
      "execution_count": null,
      "outputs": []
    },
    {
      "cell_type": "code",
      "metadata": {
        "id": "tybr8cqG3eWE",
        "colab_type": "code",
        "colab": {}
      },
      "source": [
        "print(vendas_medias_dois_meses.head(15))"
      ],
      "execution_count": null,
      "outputs": []
    },
    {
      "cell_type": "code",
      "metadata": {
        "id": "-8yIhbOFDimE",
        "colab_type": "code",
        "colab": {}
      },
      "source": [
        "vendas_medias_dois_meses.plot(figsize=(10,5), linewidth=3, fontsize=10, title='Vendas médias a cada dois meses')\n",
        "pyplot.show()"
      ],
      "execution_count": null,
      "outputs": []
    },
    {
      "cell_type": "markdown",
      "metadata": {
        "id": "g6YHQJPTDwqd",
        "colab_type": "text"
      },
      "source": [
        "**Gráficos com Plotly**\n",
        "-  Gráficos interativos\n",
        "-  Visual mais profissional\n",
        "-  Possibilidade de criaçao de um dasboard na nuvem"
      ]
    },
    {
      "cell_type": "code",
      "metadata": {
        "id": "3iemF5JV_jaQ",
        "colab_type": "code",
        "colab": {}
      },
      "source": [
        "import plotly.offline as py\n",
        "import plotly.graph_objs as go\n",
        "\n",
        "data = [go.Scatter(x=vendas_medias_dois_meses.index,\n",
        "                   y=vendas_medias_dois_meses.values)]\n",
        "\n",
        "# Criando Layout:\n",
        "configuracoes_layout = go.Layout(title='Vendas médias a cada dois meses',\n",
        "                                 title_x=0.5,\n",
        "                                 yaxis={'title':'Média de vendas'},\n",
        "                                 xaxis={'title':'Periodo'})                   \n",
        "\n",
        "\n",
        "# Objeto figura:\n",
        "fig = go.Figure(data=data, layout=configuracoes_layout)\n",
        "\n",
        "# plotando o grafico:\n",
        "py.iplot(fig)"
      ],
      "execution_count": null,
      "outputs": []
    },
    {
      "cell_type": "markdown",
      "metadata": {
        "id": "rJM0crpQ47dF",
        "colab_type": "text"
      },
      "source": [
        "Trabalhando com Trimestres"
      ]
    },
    {
      "cell_type": "code",
      "metadata": {
        "id": "-7xI9nlAzTmR",
        "colab_type": "code",
        "colab": {}
      },
      "source": [
        "upsampled = series.resample('Q')"
      ],
      "execution_count": null,
      "outputs": []
    },
    {
      "cell_type": "code",
      "metadata": {
        "id": "VvDptUh1zTWm",
        "colab_type": "code",
        "colab": {}
      },
      "source": [
        "vendas_trimestre = upsampled.mean()"
      ],
      "execution_count": null,
      "outputs": []
    },
    {
      "cell_type": "code",
      "metadata": {
        "id": "XJmekj80zdDR",
        "colab_type": "code",
        "colab": {}
      },
      "source": [
        "print (vendas_trimestre)"
      ],
      "execution_count": null,
      "outputs": []
    },
    {
      "cell_type": "markdown",
      "metadata": {
        "id": "4DgYEGTo0Ct5",
        "colab_type": "text"
      },
      "source": [
        "Plota o gráfico de vendas por trimestre"
      ]
    },
    {
      "cell_type": "code",
      "metadata": {
        "id": "rGgPk8rTAnGi",
        "colab_type": "code",
        "colab": {}
      },
      "source": [
        "import plotly.offline as py\n",
        "import plotly.graph_objs as go\n",
        "\n",
        "data = [go.Scatter(x=vendas_trimestre.index,\n",
        "                   y=vendas_trimestre.values)]\n",
        "\n",
        "# Criando Layout:\n",
        "configuracoes_layout = go.Layout(title='Vendas médias por trimestre',\n",
        "                                 title_x=0.5,\n",
        "                                 yaxis={'title':'Média de vendas'},\n",
        "                                 xaxis={'title':'Periodo'})                   \n",
        "\n",
        "\n",
        "# Objeto figura:\n",
        "fig = go.Figure(data=data, layout=configuracoes_layout)\n",
        "\n",
        "# plotando o grafico:\n",
        "py.iplot(fig)"
      ],
      "execution_count": null,
      "outputs": []
    },
    {
      "cell_type": "markdown",
      "metadata": {
        "id": "BhpbM3me1k2e",
        "colab_type": "text"
      },
      "source": [
        "Redimensionando os dados por ano"
      ]
    },
    {
      "cell_type": "code",
      "metadata": {
        "id": "MNqounKjfxrj",
        "colab_type": "code",
        "colab": {}
      },
      "source": [
        "resample = series.resample('A')"
      ],
      "execution_count": null,
      "outputs": []
    },
    {
      "cell_type": "code",
      "metadata": {
        "id": "9CYJXF8SzOlb",
        "colab_type": "code",
        "colab": {}
      },
      "source": [
        "vendas_por_ano = resample.sum() \n",
        "print(vendas_por_ano.head()) "
      ],
      "execution_count": null,
      "outputs": []
    },
    {
      "cell_type": "markdown",
      "metadata": {
        "id": "TR_RiG-S2Ah2",
        "colab_type": "text"
      },
      "source": [
        "Plota o gráfico da soma das vendas por ano"
      ]
    },
    {
      "cell_type": "code",
      "metadata": {
        "id": "0RoiO8imCeaK",
        "colab_type": "code",
        "colab": {}
      },
      "source": [
        "import plotly.offline as py\n",
        "import plotly.graph_objs as go\n",
        "\n",
        "data = [go.Scatter(x=vendas_por_ano.index,\n",
        "                   y=vendas_por_ano.values,\n",
        "                   marker = {'color':'green'})\n",
        "                   ]\n",
        "\n",
        "# Criando Layout:\n",
        "configuracoes_layout = go.Layout(title='Vendas por Ano',\n",
        "                                 title_x=0.5,\n",
        "                                 yaxis={'title':'Média de vendas'},\n",
        "                                 xaxis={'title':'Periodo'})                   \n",
        "\n",
        "\n",
        "# Objeto figura:\n",
        "fig = go.Figure(data=data, layout=configuracoes_layout)\n",
        "\n",
        "# plotando o grafico:\n",
        "py.iplot(fig)"
      ],
      "execution_count": null,
      "outputs": []
    },
    {
      "cell_type": "markdown",
      "metadata": {
        "id": "mx5JKlMJ2jjG",
        "colab_type": "text"
      },
      "source": [
        "Calculando a média de vendas por ano"
      ]
    },
    {
      "cell_type": "code",
      "metadata": {
        "id": "3bzDno7TzOdw",
        "colab_type": "code",
        "colab": {}
      },
      "source": [
        "resample = series.resample('A')"
      ],
      "execution_count": null,
      "outputs": []
    },
    {
      "cell_type": "code",
      "metadata": {
        "id": "QjGG2QcCzOYo",
        "colab_type": "code",
        "colab": {}
      },
      "source": [
        "# alteramos o método sum() para mean()\n",
        "vendas_medias_por_ano = resample.mean() \n",
        "print(vendas_medias_por_ano.head())"
      ],
      "execution_count": null,
      "outputs": []
    },
    {
      "cell_type": "code",
      "metadata": {
        "id": "Dl3EHKZqELX5",
        "colab_type": "code",
        "colab": {}
      },
      "source": [
        "import plotly.offline as py\n",
        "import plotly.graph_objs as go\n",
        "\n",
        "data = [go.Scatter(x=vendas_medias_por_ano.index,\n",
        "                   y=vendas_medias_por_ano.values,\n",
        "                   marker = {'color':'green'})\n",
        "                   ]\n",
        "\n",
        "# Criando Layout:\n",
        "configuracoes_layout = go.Layout(title='Média de Vendas por Ano',\n",
        "                                 title_x=0.5,\n",
        "                                 yaxis={'title':'Média de vendas'},\n",
        "                                 xaxis={'title':'Periodo'})                   \n",
        "\n",
        "\n",
        "# Objeto figura:\n",
        "fig = go.Figure(data=data, layout=configuracoes_layout)\n",
        "\n",
        "# plotando o grafico:\n",
        "py.iplot(fig)"
      ],
      "execution_count": null,
      "outputs": []
    },
    {
      "cell_type": "markdown",
      "metadata": {
        "id": "VYb28Y2gvsJK",
        "colab_type": "text"
      },
      "source": [
        "#### Engenharia de Features para Séries temporais"
      ]
    },
    {
      "cell_type": "markdown",
      "metadata": {
        "id": "ywxuog383C0s",
        "colab_type": "text"
      },
      "source": [
        "\n",
        "*   Objetivo da Engenharia de Features:\n",
        "    - Fornecer uma **forte e simples** relação entre as variáveis de entrada e a variável alvo para o algoritmo de Machine Learning\n",
        "    - Para Séries temporais não existe uma relação entre **variáveis de entrada e saída**, nós devemos inventar esses para modelar isso como um problema de aprendizado supervisionado a partir do zero.\n",
        "    - Podemos nos basear na capacidade de modelos sofisticados para decifrar a complexidade do problema. Ou melhor, podemos facilitar o trabalho para esses modelos (e até usar modelos mais simples) se pudermos expor melhor o relacionamento inerente entre entradas e saídas nos dados.\n",
        "\n",
        "*  É muito usado em séries temporais features que refletem:\n",
        "\n",
        "  - *Sazonalidade.*\n",
        "  - *Janelas de tempo (lag).*\n",
        "  - *Janelas de tempo com estatísticas.*\n",
        "\n",
        "*   Foco no negócio. Exemplos: \n",
        "    - *Trimestre, dia da semana, dia do mês, feriados, final de semana*\n",
        "    - *vendas dos dias ou periodos anteriores ou a diferença desses valores*\n",
        "\n",
        "\n",
        "\n"
      ]
    },
    {
      "cell_type": "code",
      "metadata": {
        "id": "_39vncfs1x0j",
        "colab_type": "code",
        "colab": {}
      },
      "source": [
        "# datetime tipo de dado\n",
        "type(series.index)"
      ],
      "execution_count": null,
      "outputs": []
    },
    {
      "cell_type": "code",
      "metadata": {
        "id": "AA4qUGVHaewh",
        "colab_type": "code",
        "colab": {}
      },
      "source": [
        "series"
      ],
      "execution_count": null,
      "outputs": []
    },
    {
      "cell_type": "code",
      "metadata": {
        "id": "a_JbOTS9wMTT",
        "colab_type": "code",
        "colab": {}
      },
      "source": [
        "# retorna a hora do datetime\n",
        "series.index.hour"
      ],
      "execution_count": null,
      "outputs": []
    },
    {
      "cell_type": "code",
      "metadata": {
        "id": "V_Bcf487zpsv",
        "colab_type": "code",
        "colab": {}
      },
      "source": [
        "# retorna o trimestre\n",
        "series.index.quarter"
      ],
      "execution_count": null,
      "outputs": []
    },
    {
      "cell_type": "code",
      "metadata": {
        "id": "lbgyOdME0LFr",
        "colab_type": "code",
        "colab": {}
      },
      "source": [
        "# retorna o dia da semana\n",
        "series.index.dayofweek"
      ],
      "execution_count": null,
      "outputs": []
    },
    {
      "cell_type": "code",
      "metadata": {
        "id": "in2E8PAt43cc",
        "colab_type": "code",
        "colab": {}
      },
      "source": [
        "# retorna o dia do ano\n",
        "series.index.dayofyear"
      ],
      "execution_count": null,
      "outputs": []
    },
    {
      "cell_type": "code",
      "metadata": {
        "id": "RTToeAM_472P",
        "colab_type": "code",
        "colab": {}
      },
      "source": [
        "# retorna se é o último dia do ano\n",
        "series.index.is_year_end"
      ],
      "execution_count": null,
      "outputs": []
    },
    {
      "cell_type": "code",
      "metadata": {
        "id": "hquWaeGH5Kv5",
        "colab_type": "code",
        "colab": {}
      },
      "source": [
        "# retorna se é o primeiro dia do ano\n",
        "series.index.is_year_start"
      ],
      "execution_count": null,
      "outputs": []
    },
    {
      "cell_type": "markdown",
      "metadata": {
        "id": "2qz0LqUzvajg",
        "colab_type": "text"
      },
      "source": [
        "### Manipulando datas"
      ]
    },
    {
      "cell_type": "code",
      "metadata": {
        "id": "YudpWIeAvVK7",
        "colab_type": "code",
        "colab": {}
      },
      "source": [
        "import pandas as pd\n",
        "faixa = pd.date_range(start='2019-01-01', end='2019-12-31', freq='B')"
      ],
      "execution_count": null,
      "outputs": []
    },
    {
      "cell_type": "code",
      "metadata": {
        "id": "j8-oVMT5vVHN",
        "colab_type": "code",
        "colab": {}
      },
      "source": [
        "faixa"
      ],
      "execution_count": null,
      "outputs": []
    },
    {
      "cell_type": "code",
      "metadata": {
        "id": "CenbeNfq4qsy",
        "colab_type": "code",
        "colab": {}
      },
      "source": [
        "pip install holidays"
      ],
      "execution_count": null,
      "outputs": []
    },
    {
      "cell_type": "code",
      "metadata": {
        "id": "YxEgHfgE4qcZ",
        "colab_type": "code",
        "colab": {}
      },
      "source": [
        "import holidays\n",
        "from datetime import date"
      ],
      "execution_count": null,
      "outputs": []
    },
    {
      "cell_type": "code",
      "metadata": {
        "id": "bEDyApgY5SW3",
        "colab_type": "code",
        "colab": {}
      },
      "source": [
        "feriados = holidays.Brazil()"
      ],
      "execution_count": null,
      "outputs": []
    },
    {
      "cell_type": "code",
      "metadata": {
        "id": "cvOH4HTx5SS1",
        "colab_type": "code",
        "colab": {}
      },
      "source": [
        "# Natal\n",
        "date(2019, 12, 25) in feriados"
      ],
      "execution_count": null,
      "outputs": []
    },
    {
      "cell_type": "code",
      "metadata": {
        "id": "tQl0o98e5SJh",
        "colab_type": "code",
        "colab": {}
      },
      "source": [
        "# Páscoa\n",
        "date(2019, 4, 12) in feriados"
      ],
      "execution_count": null,
      "outputs": []
    },
    {
      "cell_type": "code",
      "metadata": {
        "id": "W-T2q9J76e3Z",
        "colab_type": "code",
        "colab": {}
      },
      "source": [
        "# Tiradentes\n",
        "date(2019, 4, 21) in feriados"
      ],
      "execution_count": null,
      "outputs": []
    },
    {
      "cell_type": "code",
      "metadata": {
        "id": "UoXpm0j26klh",
        "colab_type": "code",
        "colab": {}
      },
      "source": [
        "# Dia do trabalho\n",
        "date(2019, 5, 1) in feriados"
      ],
      "execution_count": null,
      "outputs": []
    },
    {
      "cell_type": "code",
      "metadata": {
        "id": "BAbAKipp6zaf",
        "colab_type": "code",
        "colab": {}
      },
      "source": [
        "dias_uteis = []\n",
        "for dia in faixa.values:\n",
        "  dia = pd.to_datetime(dia).date()\n",
        "  print (dia in feriados)\n",
        "  if dia in feriados:\n",
        "    continue\n",
        "  else:\n",
        "    dias_uteis.append(dia)"
      ],
      "execution_count": null,
      "outputs": []
    },
    {
      "cell_type": "code",
      "metadata": {
        "id": "3H6pjA5b81Ve",
        "colab_type": "code",
        "colab": {}
      },
      "source": [
        "len(dias_uteis)"
      ],
      "execution_count": null,
      "outputs": []
    },
    {
      "cell_type": "code",
      "metadata": {
        "id": "nX2lIqQg9gYF",
        "colab_type": "code",
        "colab": {}
      },
      "source": [
        "dias_uteis = pd.to_datetime(dias_uteis)"
      ],
      "execution_count": null,
      "outputs": []
    },
    {
      "cell_type": "code",
      "metadata": {
        "id": "JIRXiYp09zXu",
        "colab_type": "code",
        "colab": {}
      },
      "source": [
        "dias_uteis"
      ],
      "execution_count": null,
      "outputs": []
    },
    {
      "cell_type": "code",
      "metadata": {
        "id": "Iv3SqJNx9HE0",
        "colab_type": "code",
        "colab": {}
      },
      "source": [
        "'2019-01-01' in dias_uteis"
      ],
      "execution_count": null,
      "outputs": []
    },
    {
      "cell_type": "code",
      "metadata": {
        "id": "ZUs7gEYs9bYB",
        "colab_type": "code",
        "colab": {}
      },
      "source": [
        "'2019-01-02' in dias_uteis"
      ],
      "execution_count": null,
      "outputs": []
    },
    {
      "cell_type": "markdown",
      "metadata": {
        "id": "-ARK7GBUV2Wu",
        "colab_type": "text"
      },
      "source": [
        "##### **Features de data**\n",
        "- Dois recursos com os quais podemos começar são o mês e o dia de vendas.\n",
        "- Podemos imaginar que algoritmos de aprendizado supervisionado podem usar essas entradas para ajudar a obter informações de sazonalidade, como por exemplo: *mês com mais vendas, ou dia do mês que mais vende*."
      ]
    },
    {
      "cell_type": "code",
      "metadata": {
        "id": "n-94VwOvvrvw",
        "colab_type": "code",
        "colab": {}
      },
      "source": [
        "dataframe = DataFrame()"
      ],
      "execution_count": null,
      "outputs": []
    },
    {
      "cell_type": "code",
      "metadata": {
        "id": "6qNJRIrqQEh1",
        "colab_type": "code",
        "colab": {}
      },
      "source": [
        "dataframe['mes'] = [series.index[i].month for i in range(len(series))]"
      ],
      "execution_count": null,
      "outputs": []
    },
    {
      "cell_type": "code",
      "metadata": {
        "id": "UQsh40nqP5Rx",
        "colab_type": "code",
        "colab": {}
      },
      "source": [
        "dataframe['dia'] = [series.index[i].day for i in range(len(series))]"
      ],
      "execution_count": null,
      "outputs": []
    },
    {
      "cell_type": "code",
      "metadata": {
        "id": "YfZhJHP8P5HF",
        "colab_type": "code",
        "colab": {}
      },
      "source": [
        "dataframe['vendas'] = [series[i] for i in range(len(series))]"
      ],
      "execution_count": null,
      "outputs": []
    },
    {
      "cell_type": "code",
      "metadata": {
        "id": "rhcS0rXVP02g",
        "colab_type": "code",
        "colab": {}
      },
      "source": [
        "dataframe"
      ],
      "execution_count": null,
      "outputs": []
    },
    {
      "cell_type": "markdown",
      "metadata": {
        "id": "_uPyQMtu626q",
        "colab_type": "text"
      },
      "source": [
        "### Lag Features\n",
        "\n",
        "- Slide Window (Janelas deslizantes)"
      ]
    },
    {
      "cell_type": "code",
      "metadata": {
        "id": "j0mRxnDS6IgT",
        "colab_type": "code",
        "colab": {}
      },
      "source": [
        "series.head()"
      ],
      "execution_count": null,
      "outputs": []
    },
    {
      "cell_type": "code",
      "metadata": {
        "id": "K9xeZQBRQgI0",
        "colab_type": "code",
        "colab": {}
      },
      "source": [
        "# desloca o valor um lag a frente\n",
        "series.shift()"
      ],
      "execution_count": null,
      "outputs": []
    },
    {
      "cell_type": "code",
      "metadata": {
        "id": "FaGtDGeDQlPF",
        "colab_type": "code",
        "colab": {}
      },
      "source": [
        "# desloca o valor um lag a frente\n",
        "series.shift(1)"
      ],
      "execution_count": null,
      "outputs": []
    },
    {
      "cell_type": "code",
      "metadata": {
        "id": "2QlEoXuVQuuz",
        "colab_type": "code",
        "colab": {}
      },
      "source": [
        "# Cria um dataframe chamado temp\n",
        "temp = DataFrame(series.values)"
      ],
      "execution_count": null,
      "outputs": []
    },
    {
      "cell_type": "code",
      "metadata": {
        "id": "A2dgktEBRibM",
        "colab_type": "code",
        "colab": {}
      },
      "source": [
        "temp"
      ],
      "execution_count": null,
      "outputs": []
    },
    {
      "cell_type": "code",
      "metadata": {
        "id": "J4JgpCQCRmNW",
        "colab_type": "code",
        "colab": {}
      },
      "source": [
        "# Desloca o valor um lag a frente\n",
        "temp.shift(1)"
      ],
      "execution_count": null,
      "outputs": []
    },
    {
      "cell_type": "markdown",
      "metadata": {
        "id": "fnJ59SVJRvQR",
        "colab_type": "text"
      },
      "source": [
        "Concatenando o dataframe"
      ]
    },
    {
      "cell_type": "code",
      "metadata": {
        "id": "i2Kz83_E6H21",
        "colab_type": "code",
        "colab": {}
      },
      "source": [
        "from pandas import concat\n",
        "dataframe = concat([temp.shift(1), temp], axis=1)"
      ],
      "execution_count": null,
      "outputs": []
    },
    {
      "cell_type": "code",
      "metadata": {
        "id": "ZV1zfHEd6HqF",
        "colab_type": "code",
        "colab": {}
      },
      "source": [
        "# cria as coluanas t e t+1\n",
        "dataframe.columns = ['t', 't+1']"
      ],
      "execution_count": null,
      "outputs": []
    },
    {
      "cell_type": "code",
      "metadata": {
        "id": "yXRQhCoF6HmQ",
        "colab_type": "code",
        "colab": {}
      },
      "source": [
        "dataframe.head(5)"
      ],
      "execution_count": null,
      "outputs": []
    },
    {
      "cell_type": "markdown",
      "metadata": {
        "id": "1mgqvjlRVl2u",
        "colab_type": "text"
      },
      "source": [
        "Expandindo os lags"
      ]
    },
    {
      "cell_type": "code",
      "metadata": {
        "id": "5i3ncAsKV9hI",
        "colab_type": "code",
        "colab": {}
      },
      "source": [
        "temp = DataFrame(series.values)"
      ],
      "execution_count": null,
      "outputs": []
    },
    {
      "cell_type": "code",
      "metadata": {
        "id": "O1kdzYsmo-yN",
        "colab_type": "code",
        "colab": {}
      },
      "source": [
        "# expandindo 2 lags a frente\n",
        "temp.shift(2)"
      ],
      "execution_count": null,
      "outputs": []
    },
    {
      "cell_type": "code",
      "metadata": {
        "id": "dcabnziHpDKZ",
        "colab_type": "code",
        "colab": {}
      },
      "source": [
        "# expandindo 3 lags a frente\n",
        "temp.shift(3)"
      ],
      "execution_count": null,
      "outputs": []
    },
    {
      "cell_type": "code",
      "metadata": {
        "id": "UTM3X70U6HaT",
        "colab_type": "code",
        "colab": {}
      },
      "source": [
        "# concatena lags\n",
        "dataframe = concat([temp.shift(3), temp.shift(2), temp.shift(1), temp], axis=1)"
      ],
      "execution_count": null,
      "outputs": []
    },
    {
      "cell_type": "code",
      "metadata": {
        "id": "rADWo0JIVlDa",
        "colab_type": "code",
        "colab": {}
      },
      "source": [
        "# cria colunas\n",
        "dataframe.columns = ['t-2', 't-1', 't', 't+1']"
      ],
      "execution_count": null,
      "outputs": []
    },
    {
      "cell_type": "code",
      "metadata": {
        "id": "tMKIOslwVk-s",
        "colab_type": "code",
        "colab": {}
      },
      "source": [
        "# imprime o dataframe gerado\n",
        "print(dataframe.head(10))"
      ],
      "execution_count": null,
      "outputs": []
    },
    {
      "cell_type": "code",
      "metadata": {
        "id": "EX1UfWRnpysm",
        "colab_type": "code",
        "colab": {}
      },
      "source": [
        "# dados originais..\n",
        "temp.head(10)"
      ],
      "execution_count": null,
      "outputs": []
    },
    {
      "cell_type": "markdown",
      "metadata": {
        "id": "fI2XLDpgY4ED",
        "colab_type": "text"
      },
      "source": [
        "### Trabalhando com o método Rolling "
      ]
    },
    {
      "cell_type": "code",
      "metadata": {
        "id": "rKYpPUimZQYl",
        "colab_type": "code",
        "colab": {}
      },
      "source": [
        "# cria um dataframe a partir dos dados originais\n",
        "temp = pd.DataFrame(series.values)"
      ],
      "execution_count": null,
      "outputs": []
    },
    {
      "cell_type": "code",
      "metadata": {
        "id": "Gi82jdjKVk5S",
        "colab_type": "code",
        "colab": {}
      },
      "source": [
        "# a variável dados_deslocados recebe os dados de um lag a frente\n",
        "dados_deslocados = temp.shift(1)"
      ],
      "execution_count": null,
      "outputs": []
    },
    {
      "cell_type": "code",
      "metadata": {
        "id": "NOeI-Ymyr2vn",
        "colab_type": "code",
        "colab": {}
      },
      "source": [
        "# imprime a variável dados_deslocados\n",
        "dados_deslocados"
      ],
      "execution_count": null,
      "outputs": []
    },
    {
      "cell_type": "code",
      "metadata": {
        "id": "A6QIxlA8Vkjv",
        "colab_type": "code",
        "colab": {}
      },
      "source": [
        "# cria uma variável com rolling\n",
        "window = dados_deslocados.rolling(window=2)"
      ],
      "execution_count": null,
      "outputs": []
    },
    {
      "cell_type": "code",
      "metadata": {
        "id": "TkByLNavqQzL",
        "colab_type": "code",
        "colab": {}
      },
      "source": [
        "# imprime a variável window\n",
        "window"
      ],
      "execution_count": null,
      "outputs": []
    },
    {
      "cell_type": "code",
      "metadata": {
        "id": "b5kJfbRYVkgq",
        "colab_type": "code",
        "colab": {}
      },
      "source": [
        "# cria a variável media\n",
        "media = window.mean()"
      ],
      "execution_count": null,
      "outputs": []
    },
    {
      "cell_type": "code",
      "metadata": {
        "id": "z_-WWOgEq1Sn",
        "colab_type": "code",
        "colab": {}
      },
      "source": [
        "# imprime a variável media\n",
        "media"
      ],
      "execution_count": null,
      "outputs": []
    },
    {
      "cell_type": "code",
      "metadata": {
        "id": "OzABIwl6ZFmX",
        "colab_type": "code",
        "colab": {}
      },
      "source": [
        "# cria um dataframe concatendo a media com os dados reais\n",
        "dataframe = concat([media, temp], axis=1)"
      ],
      "execution_count": null,
      "outputs": []
    },
    {
      "cell_type": "code",
      "metadata": {
        "id": "fzyPhGK3ZGgC",
        "colab_type": "code",
        "colab": {}
      },
      "source": [
        "# cria as colunas\n",
        "dataframe.columns = ['mean(t-1,t)', 't+1']"
      ],
      "execution_count": null,
      "outputs": []
    },
    {
      "cell_type": "code",
      "metadata": {
        "id": "z4_LRCQ3ZGUR",
        "colab_type": "code",
        "colab": {}
      },
      "source": [
        "# imprime o dataframe gerado\n",
        "print(dataframe.head(10))"
      ],
      "execution_count": null,
      "outputs": []
    },
    {
      "cell_type": "markdown",
      "metadata": {
        "id": "3HbUhc4sbXhQ",
        "colab_type": "text"
      },
      "source": [
        "Entendendo os dados gerados..\n",
        "\n",
        "- `Os primeiros NaN values foram criados pelo deslocamento dos dados.`\n",
        "\n",
        "- `O segundo valor não pode ser usado apenas para calcular a média.`\n",
        "\n",
        "- `A terceira linha mostra o valor esperado de 2743.5 (média de 2815 e 2672) e o valor de t+1`\n"
      ]
    },
    {
      "cell_type": "markdown",
      "metadata": {
        "id": "NL6LzdFUakIb",
        "colab_type": "text"
      },
      "source": [
        "Comparando com a série original..."
      ]
    },
    {
      "cell_type": "code",
      "metadata": {
        "id": "MF-DIkizZGR3",
        "colab_type": "code",
        "colab": {}
      },
      "source": [
        "series.head()"
      ],
      "execution_count": null,
      "outputs": []
    },
    {
      "cell_type": "markdown",
      "metadata": {
        "id": "1F3gfJf0cM6B",
        "colab_type": "text"
      },
      "source": [
        "Adicionando estatística nos dados"
      ]
    },
    {
      "cell_type": "code",
      "metadata": {
        "id": "9Ly3KklecAOS",
        "colab_type": "code",
        "colab": {}
      },
      "source": [
        "# define a variável tamanho\n",
        "tamanho = 3"
      ],
      "execution_count": null,
      "outputs": []
    },
    {
      "cell_type": "code",
      "metadata": {
        "id": "aLuNhZZ9cAFV",
        "colab_type": "code",
        "colab": {}
      },
      "source": [
        "# variável dados_deslocados recebe tamanho - 1\n",
        "dados_deslocados = temp.shift(tamanho)"
      ],
      "execution_count": null,
      "outputs": []
    },
    {
      "cell_type": "code",
      "metadata": {
        "id": "skj2-c9ttkiE",
        "colab_type": "code",
        "colab": {}
      },
      "source": [
        "# imprime a variável dados_deslocados\n",
        "dados_deslocados"
      ],
      "execution_count": null,
      "outputs": []
    },
    {
      "cell_type": "code",
      "metadata": {
        "id": "uL6FSF9kZGPK",
        "colab_type": "code",
        "colab": {}
      },
      "source": [
        "# cria a variável janela que recebe o rolling do tamanho especificado\n",
        "janela = dados_deslocados.rolling(window=tamanho)"
      ],
      "execution_count": null,
      "outputs": []
    },
    {
      "cell_type": "code",
      "metadata": {
        "id": "2l5AlScouA4z",
        "colab_type": "code",
        "colab": {}
      },
      "source": [
        "janela"
      ],
      "execution_count": null,
      "outputs": []
    },
    {
      "cell_type": "code",
      "metadata": {
        "id": "G7qmh-rDZGLV",
        "colab_type": "code",
        "colab": {}
      },
      "source": [
        "# cria o dataframe com as estatísticas da janela\n",
        "dataframe = concat([window.min(), window.mean(), window.max(), temp], axis=1)"
      ],
      "execution_count": null,
      "outputs": []
    },
    {
      "cell_type": "code",
      "metadata": {
        "id": "eyTNp98GTKjG",
        "colab_type": "code",
        "colab": {}
      },
      "source": [
        "# imprime o dataframe gerado\n",
        "dataframe"
      ],
      "execution_count": null,
      "outputs": []
    },
    {
      "cell_type": "code",
      "metadata": {
        "id": "sf_q219lZGHv",
        "colab_type": "code",
        "colab": {}
      },
      "source": [
        "# cria as colunas do dataframe\n",
        "dataframe.columns = ['min', 'mean', 'max', 't+1']"
      ],
      "execution_count": null,
      "outputs": []
    },
    {
      "cell_type": "code",
      "metadata": {
        "id": "tFCdA8TNcI6f",
        "colab_type": "code",
        "colab": {}
      },
      "source": [
        "# imprime o dataframe\n",
        "dataframe.head(10)"
      ],
      "execution_count": null,
      "outputs": []
    },
    {
      "cell_type": "markdown",
      "metadata": {
        "id": "tH7nJ9OLuDsW",
        "colab_type": "text"
      },
      "source": [
        "### Médias Móveis (Average Moving Smoothing)"
      ]
    },
    {
      "cell_type": "markdown",
      "metadata": {
        "id": "cqvFD0v2yRtu",
        "colab_type": "text"
      },
      "source": [
        "\n",
        "\n",
        "*   Valor médio de valores em uma sequência de tempo.\n",
        "*   Técnica de suavização que remove variações finas nos dados.\n",
        "*   Objetivo é remover ruídos e fazer previsões.\n",
        "*   Pode ser usado para Feature Engineering.\n",
        "\n"
      ]
    },
    {
      "cell_type": "code",
      "metadata": {
        "id": "afLyotsTuCbS",
        "colab_type": "code",
        "colab": {}
      },
      "source": [
        "# importa as bibliotecas que serão usadas\n",
        "import pandas as pd\n",
        "from pandas import read_csv\n",
        "from pandas import concat\n",
        "from matplotlib import pyplot"
      ],
      "execution_count": null,
      "outputs": []
    },
    {
      "cell_type": "code",
      "metadata": {
        "id": "WuThxV47nRCq",
        "colab_type": "code",
        "colab": {}
      },
      "source": [
        "# ler a base de dados usada.\n",
        "series = read_csv('/content/drive/My Drive/Curso Séries Temporais/Materiais de Apoio/champagne_sales.csv', header=0, index_col=0, parse_dates=True, squeeze=True)"
      ],
      "execution_count": null,
      "outputs": []
    },
    {
      "cell_type": "code",
      "metadata": {
        "id": "tUPzOlag6fTU",
        "colab_type": "code",
        "colab": {}
      },
      "source": [
        "# cria um objeto rolling de janela igual a 3\n",
        "rolling = series.rolling(window=3)"
      ],
      "execution_count": null,
      "outputs": []
    },
    {
      "cell_type": "code",
      "metadata": {
        "id": "0bXZzKIHTL3f",
        "colab_type": "code",
        "colab": {}
      },
      "source": [
        "rolling"
      ],
      "execution_count": null,
      "outputs": []
    },
    {
      "cell_type": "code",
      "metadata": {
        "id": "tSO8Z_E8uCOt",
        "colab_type": "code",
        "colab": {}
      },
      "source": [
        "# calcula a média da janela\n",
        "rolling_mean = rolling.mean()"
      ],
      "execution_count": null,
      "outputs": []
    },
    {
      "cell_type": "code",
      "metadata": {
        "id": "M-OEef226Cur",
        "colab_type": "code",
        "colab": {}
      },
      "source": [
        "# imprime o objeto rolling_mean\n",
        "print(rolling_mean.head(10))"
      ],
      "execution_count": null,
      "outputs": []
    },
    {
      "cell_type": "code",
      "metadata": {
        "id": "by_mU1NA5zdD",
        "colab_type": "code",
        "colab": {}
      },
      "source": [
        "# plot os dados originais e os dados da média móvel \n",
        "series.plot()\n",
        "rolling_mean.plot(color='red')\n",
        "pyplot.show()"
      ],
      "execution_count": null,
      "outputs": []
    },
    {
      "cell_type": "markdown",
      "metadata": {
        "id": "hgVIRtad9_U4",
        "colab_type": "text"
      },
      "source": [
        "#### Média Móvel - Engenharia de Features\n",
        "\n"
      ]
    },
    {
      "cell_type": "code",
      "metadata": {
        "id": "6SmAtOCc-Rm8",
        "colab_type": "code",
        "colab": {}
      },
      "source": [
        "from pandas import DataFrame"
      ],
      "execution_count": null,
      "outputs": []
    },
    {
      "cell_type": "code",
      "metadata": {
        "id": "PnSVlV7A-dGX",
        "colab_type": "code",
        "colab": {}
      },
      "source": [
        "# cria um dataframe df\n",
        "df = DataFrame(series.values)"
      ],
      "execution_count": null,
      "outputs": []
    },
    {
      "cell_type": "code",
      "metadata": {
        "id": "fHWiVNPswySh",
        "colab_type": "code",
        "colab": {}
      },
      "source": [
        "# imprime as 5 linhas do dataframe\n",
        "df.head()"
      ],
      "execution_count": null,
      "outputs": []
    },
    {
      "cell_type": "code",
      "metadata": {
        "id": "1EWNvA-a-oei",
        "colab_type": "code",
        "colab": {}
      },
      "source": [
        "# cria uma constante\n",
        "tamanho = 3"
      ],
      "execution_count": null,
      "outputs": []
    },
    {
      "cell_type": "code",
      "metadata": {
        "id": "KswSf9ov-vr7",
        "colab_type": "code",
        "colab": {}
      },
      "source": [
        "# cria uma variável com os dados deslocados +1\n",
        "lag1 = df.shift(1)"
      ],
      "execution_count": null,
      "outputs": []
    },
    {
      "cell_type": "code",
      "metadata": {
        "id": "SneUBQEl-xrK",
        "colab_type": "code",
        "colab": {}
      },
      "source": [
        "# cria uma variável com os dados deslocados +3\n",
        "lag3 = df.shift(tamanho)"
      ],
      "execution_count": null,
      "outputs": []
    },
    {
      "cell_type": "code",
      "metadata": {
        "id": "HEsFFF8w6yGs",
        "colab_type": "code",
        "colab": {}
      },
      "source": [
        "# cria uma janela usando o rolling\n",
        "window = lag3.rolling(window=tamanho)"
      ],
      "execution_count": null,
      "outputs": []
    },
    {
      "cell_type": "code",
      "metadata": {
        "id": "ZqGb2sqnzblh",
        "colab_type": "code",
        "colab": {}
      },
      "source": [
        "# imprime a janela\n",
        "window"
      ],
      "execution_count": null,
      "outputs": []
    },
    {
      "cell_type": "code",
      "metadata": {
        "id": "bOXK1ip_-7nr",
        "colab_type": "code",
        "colab": {}
      },
      "source": [
        "# cria a variável media que é a média da jenela.\n",
        "media = window.mean()"
      ],
      "execution_count": null,
      "outputs": []
    },
    {
      "cell_type": "code",
      "metadata": {
        "id": "SQm_sZWrzgdN",
        "colab_type": "code",
        "colab": {}
      },
      "source": [
        "# imprime a variável media\n",
        "media"
      ],
      "execution_count": null,
      "outputs": []
    },
    {
      "cell_type": "code",
      "metadata": {
        "id": "3FoCEORarunm",
        "colab_type": "code",
        "colab": {}
      },
      "source": [
        "# imprime o dataframe\n",
        "df.head()"
      ],
      "execution_count": null,
      "outputs": []
    },
    {
      "cell_type": "code",
      "metadata": {
        "id": "Xs_flZhN-5S0",
        "colab_type": "code",
        "colab": {}
      },
      "source": [
        "# concatena os dados\n",
        "dataframe = concat([media, lag1, df], axis=1)"
      ],
      "execution_count": null,
      "outputs": []
    },
    {
      "cell_type": "code",
      "metadata": {
        "id": "vmEbe4Kcztd2",
        "colab_type": "code",
        "colab": {}
      },
      "source": [
        "# cria as colunas\n",
        "dataframe.columns = ['media', 't', 't+1']"
      ],
      "execution_count": null,
      "outputs": []
    },
    {
      "cell_type": "code",
      "metadata": {
        "id": "xNPXgTNkZQCs",
        "colab_type": "code",
        "colab": {}
      },
      "source": [
        "lag3"
      ],
      "execution_count": null,
      "outputs": []
    },
    {
      "cell_type": "code",
      "metadata": {
        "id": "ddcQ4SGJADrO",
        "colab_type": "code",
        "colab": {}
      },
      "source": [
        "# imprime o dataframe\n",
        "dataframe.head(10)"
      ],
      "execution_count": null,
      "outputs": []
    },
    {
      "cell_type": "markdown",
      "metadata": {
        "id": "7UfK5TM1Au6Y",
        "colab_type": "text"
      },
      "source": [
        "#### Previsões com Média Móvel"
      ]
    },
    {
      "cell_type": "markdown",
      "metadata": {
        "id": "aOjH8VgSA24f",
        "colab_type": "text"
      },
      "source": [
        "\n",
        "\n",
        "1.   Solução simples (walk-forward)\n",
        "2.   Interessante para se criar baselines.\n",
        "3.   Pode se usar Janelas Deslizantes para trabalhar com dados quentes.\n",
        "\n"
      ]
    },
    {
      "cell_type": "code",
      "metadata": {
        "id": "SgzZoBzrvfkN",
        "colab_type": "code",
        "colab": {}
      },
      "source": [
        "from math import sqrt\n",
        "from pandas import read_csv\n",
        "from numpy import mean\n",
        "from sklearn.metrics import mean_squared_error"
      ],
      "execution_count": null,
      "outputs": []
    },
    {
      "cell_type": "code",
      "metadata": {
        "id": "XVe7wlM9A1pY",
        "colab_type": "code",
        "colab": {}
      },
      "source": [
        "series"
      ],
      "execution_count": null,
      "outputs": []
    },
    {
      "cell_type": "code",
      "metadata": {
        "id": "6R5RWFKufaXE",
        "colab_type": "code",
        "colab": {}
      },
      "source": [
        "# Define uma janela de 3 elementos\n",
        "window = 3"
      ],
      "execution_count": null,
      "outputs": []
    },
    {
      "cell_type": "code",
      "metadata": {
        "id": "HTlqgIKDtcsj",
        "colab_type": "code",
        "colab": {}
      },
      "source": [
        "# Obtem os 3 primeiros valores da serie\n",
        "history = [series.values[i] for i in range(window)]"
      ],
      "execution_count": null,
      "outputs": []
    },
    {
      "cell_type": "code",
      "metadata": {
        "id": "Cliinomlf0m9",
        "colab_type": "code",
        "colab": {}
      },
      "source": [
        "# imprime a variável history\n",
        "history"
      ],
      "execution_count": null,
      "outputs": []
    },
    {
      "cell_type": "code",
      "metadata": {
        "id": "QhgqJC-Lfw5O",
        "colab_type": "code",
        "colab": {}
      },
      "source": [
        "# Obtem todos os valores após os tres primeiros.\n",
        "# range(3, tamanho_da_serie)\n",
        "\n",
        "test = [series.values[i] for i in range(window, len(series.values))]"
      ],
      "execution_count": null,
      "outputs": []
    },
    {
      "cell_type": "code",
      "metadata": {
        "id": "9wWUrUXDuujH",
        "colab_type": "code",
        "colab": {}
      },
      "source": [
        "# imprime a variável test\n",
        "# 10 primeiros valores da série após o history\n",
        "test"
      ],
      "execution_count": null,
      "outputs": []
    },
    {
      "cell_type": "code",
      "metadata": {
        "id": "478ZbRz7uojD",
        "colab_type": "code",
        "colab": {}
      },
      "source": [
        "# serie original\n",
        "series.values"
      ],
      "execution_count": null,
      "outputs": []
    },
    {
      "cell_type": "markdown",
      "metadata": {
        "id": "FUPt1R8v9Ct5",
        "colab_type": "text"
      },
      "source": [
        "**Previsão com Média Móvel - Janela deslizante**"
      ]
    },
    {
      "cell_type": "code",
      "metadata": {
        "id": "eSFgcRj9tlpt",
        "colab_type": "code",
        "colab": {}
      },
      "source": [
        "# Define uma variavel chamada X que é a copia da serie de dados\n",
        "X = series.values\n",
        "\n",
        "# Define a variável window = 3 que será a janela de 3 valroes\n",
        "window = 3\n",
        "\n",
        "# Obtem os 3 primeiros valores da serie\n",
        "history = [X[i] for i in range(window)]\n",
        "\n",
        "# Obtem todos os valores após os tres primeiros.\n",
        "test = [X[i] for i in range(window, len(X))]\n",
        "\n",
        "# cria lista de predições\n",
        "predicoes = []\n",
        "\n",
        "# Intera sobre os dados de teste...\n",
        "\n",
        "for t in range(len(test)):\n",
        "  # define a variavel length com o tamanho da variável history\n",
        "  length = len(history)\n",
        "  \n",
        "  # define a variável valor_predito com a média dos 3 valores correntes..                                                           \n",
        "  valor_predito = mean([history[i] for i in range(length - window, length)])        \n",
        "  \n",
        "  # define a variável valor_real com o valor atual do teste..\n",
        "  valor_real = test[t]                                                              \n",
        "  \n",
        "  # alimenta a lista de predicoes\n",
        "  predicoes.append(valor_predito)                                                  \n",
        "  \n",
        "  # atualiza a lista history com os valores correntes..\n",
        "  history.append(valor_real)                                                        \n",
        "  \n",
        "  # imprime o valor predito e o real...\n",
        "  print('Valor predito=%f, Valor real=%f' % (valor_predito, valor_real))                 "
      ],
      "execution_count": null,
      "outputs": []
    },
    {
      "cell_type": "code",
      "metadata": {
        "id": "4TYoYR0Fh7uw",
        "colab_type": "code",
        "colab": {}
      },
      "source": [
        "# calcula a métrica de rmse\n",
        "rmse = sqrt(mean_squared_error(test, predicoes))                               "
      ],
      "execution_count": null,
      "outputs": []
    },
    {
      "cell_type": "code",
      "metadata": {
        "id": "vUrvW7YCh83C",
        "colab_type": "code",
        "colab": {}
      },
      "source": [
        "# imprime o valor de rmse\n",
        "print('Métrica RMSE: %.3f' % rmse)"
      ],
      "execution_count": null,
      "outputs": []
    },
    {
      "cell_type": "code",
      "metadata": {
        "id": "mKiP0T7HfQTd",
        "colab_type": "code",
        "colab": {}
      },
      "source": [
        "# plot o valor real (test) e as predições \n",
        "pyplot.plot(test) \n",
        "pyplot.plot(predicoes, color='red')\n",
        "pyplot.show()"
      ],
      "execution_count": null,
      "outputs": []
    },
    {
      "cell_type": "markdown",
      "metadata": {
        "id": "GlvvJzZvb7K5",
        "colab_type": "text"
      },
      "source": [
        "### Decompondo uma série temporal\n",
        "\n",
        "- **Modelo aditivo**\n",
        "\n",
        "                      y(t) = Level + Trend + Seasonality + Noise\n",
        "\n",
        "  - Os componentes se somam.\n",
        "  - A amplitude da sazonalidade se mantém com um aumento da tendência.\n",
        "\n",
        "\n",
        "\n",
        "- **Modelo multiplicativo**\n",
        "\n",
        "                      y(t) = Level × Trend × Seasonality × Noise\n",
        "                \n",
        "  - Os componentes se multiplicam.\n",
        "  - A amplitude da sazonalidade também aumenta com a tendência"
      ]
    },
    {
      "cell_type": "markdown",
      "metadata": {
        "id": "dMxC7fPucvw2",
        "colab_type": "text"
      },
      "source": [
        "Monta o drive"
      ]
    },
    {
      "cell_type": "code",
      "metadata": {
        "id": "kXBAif0VcuUH",
        "colab_type": "code",
        "colab": {}
      },
      "source": [
        "from google.colab import drive\n",
        "drive.mount('/content/drive')"
      ],
      "execution_count": null,
      "outputs": []
    },
    {
      "cell_type": "markdown",
      "metadata": {
        "id": "kR15-0Wqc0CM",
        "colab_type": "text"
      },
      "source": [
        "Importa a biblioteca Statsmodel"
      ]
    },
    {
      "cell_type": "code",
      "metadata": {
        "id": "Jz0vojaKb_gM",
        "colab_type": "code",
        "colab": {}
      },
      "source": [
        "import pandas.util.testing as tm\n",
        "from statsmodels.tsa.seasonal import seasonal_decompose"
      ],
      "execution_count": null,
      "outputs": []
    },
    {
      "cell_type": "markdown",
      "metadata": {
        "id": "7fRkudByc5Ug",
        "colab_type": "text"
      },
      "source": [
        "Ler a base de dados"
      ]
    },
    {
      "cell_type": "code",
      "metadata": {
        "id": "-CbvC6C8cHB2",
        "colab_type": "code",
        "colab": {}
      },
      "source": [
        "import pandas as pd\n",
        "series = pd.read_csv('/content/drive/My Drive/Curso Séries Temporais/champagne_sales.csv', header=0, index_col=0, parse_dates=True, squeeze=True)"
      ],
      "execution_count": null,
      "outputs": []
    },
    {
      "cell_type": "markdown",
      "metadata": {
        "id": "NGwlJGOB6525",
        "colab_type": "text"
      },
      "source": [
        "Plotando a distribuição da série"
      ]
    },
    {
      "cell_type": "code",
      "metadata": {
        "id": "6L8RS3ZbuV80",
        "colab_type": "code",
        "colab": {}
      },
      "source": [
        "from pandas import read_csv \n",
        "from matplotlib import pyplot\n",
        "\n",
        "# plota um histogram\n",
        "\n",
        "pyplot.figure(1)\n",
        "pyplot.subplot(211)\n",
        "series.hist()"
      ],
      "execution_count": null,
      "outputs": []
    },
    {
      "cell_type": "markdown",
      "metadata": {
        "id": "uFlafi4A6_jL",
        "colab_type": "text"
      },
      "source": [
        "Visualizando os dados"
      ]
    },
    {
      "cell_type": "code",
      "metadata": {
        "id": "uXIx7QWykm8P",
        "colab_type": "code",
        "colab": {}
      },
      "source": [
        "series.plot()"
      ],
      "execution_count": null,
      "outputs": []
    },
    {
      "cell_type": "markdown",
      "metadata": {
        "id": "OyemN1H-8ZZ-",
        "colab_type": "text"
      },
      "source": [
        "Criando um modelo aditivo"
      ]
    },
    {
      "cell_type": "code",
      "metadata": {
        "id": "CUG0cWmNc9oz",
        "colab_type": "code",
        "colab": {}
      },
      "source": [
        "resultado = seasonal_decompose(series,  model='additive')"
      ],
      "execution_count": null,
      "outputs": []
    },
    {
      "cell_type": "code",
      "metadata": {
        "id": "5-nz1kIudm9R",
        "colab_type": "code",
        "colab": {}
      },
      "source": [
        "import matplotlib.pyplot as plt\n",
        "resultado.plot()\n",
        "pyplot.show()"
      ],
      "execution_count": null,
      "outputs": []
    },
    {
      "cell_type": "markdown",
      "metadata": {
        "id": "Ve3dAxXg8c9H",
        "colab_type": "text"
      },
      "source": [
        "Criando um modelo multiplicativo"
      ]
    },
    {
      "cell_type": "code",
      "metadata": {
        "id": "m3-CUKyUkrTD",
        "colab_type": "code",
        "colab": {}
      },
      "source": [
        "resultado = seasonal_decompose(series,  model='multiplicative')"
      ],
      "execution_count": null,
      "outputs": []
    },
    {
      "cell_type": "code",
      "metadata": {
        "id": "1URTgZZTkydc",
        "colab_type": "code",
        "colab": {}
      },
      "source": [
        "import matplotlib.pyplot as plt\n",
        "resultado.plot()\n",
        "pyplot.show()"
      ],
      "execution_count": null,
      "outputs": []
    },
    {
      "cell_type": "markdown",
      "metadata": {
        "id": "j31KrHb0yYoB",
        "colab_type": "text"
      },
      "source": [
        "### Removendo tendência e sazonalidade da série temporal\n",
        "\n",
        "Considerações Gerais:\n",
        "\n",
        "-      Conveniência: *Remover tendência e sazonalidade de várias séries para treinar um único modelo*.\n",
        "\n",
        "-      Clareza na informação: *Remover as informações sazonais podem clarear os sinais nos dados. Exemplo: Os preços das ações da APPLE sobem a 5 anos. O modelo levar isso em consideração pode atrapalhar prever se o dia de amanhã será de alta ou não alta*\n",
        "\n",
        "**Tipos de Sazonalidades, exemplo:**\n",
        "\n",
        "- Hora do dia.\n",
        "- Diário.\n",
        "- Dia da Semana.\n",
        "- Semanal.\n",
        "- Mensal.\n",
        "- Anual.\n",
        "\n",
        "**Métodos Statísticos**\n",
        "  - Remove informação sistematica que pode distorcer a relação entre as variáveis de entrada e alvo.\n",
        "  - Adiciona informação sistemática para melhorar a relação entre as variáveis de entrada e variáveis de saída.\n",
        "  - Tende a melhorar modelos devido a incapacidade de alguns métodos.\n",
        "\n",
        "**Machine Learning**\n",
        "  - Remove informação sistematica que pode distorcer a relação entre as variáveis de entrada e alvo.\n",
        "  - Adiciona informação sistemática para melhorar a relação entre as variáveis de entrada e variáveis de saída.\n",
        "  - Nem sempre melhora os modelos de Machine Learning."
      ]
    },
    {
      "cell_type": "markdown",
      "metadata": {
        "id": "3HU64tjB1eAl",
        "colab_type": "text"
      },
      "source": [
        "Tendência obvia"
      ]
    },
    {
      "cell_type": "code",
      "metadata": {
        "id": "NNTVN8MxytvT",
        "colab_type": "code",
        "colab": {}
      },
      "source": [
        "series.plot()"
      ],
      "execution_count": null,
      "outputs": []
    },
    {
      "cell_type": "markdown",
      "metadata": {
        "id": "_8ASgNS51iPD",
        "colab_type": "text"
      },
      "source": [
        "Decompondo a série"
      ]
    },
    {
      "cell_type": "code",
      "metadata": {
        "id": "KdMuMwZT1rfR",
        "colab_type": "code",
        "colab": {}
      },
      "source": [
        "import pandas.util.testing as tm\n",
        "from statsmodels.tsa.seasonal import seasonal_decompose"
      ],
      "execution_count": null,
      "outputs": []
    },
    {
      "cell_type": "code",
      "metadata": {
        "id": "2wBycdLFytsS",
        "colab_type": "code",
        "colab": {}
      },
      "source": [
        "resultado = seasonal_decompose(series,  model='multiplicative')"
      ],
      "execution_count": null,
      "outputs": []
    },
    {
      "cell_type": "code",
      "metadata": {
        "id": "l29ypbCV1b3k",
        "colab_type": "code",
        "colab": {}
      },
      "source": [
        "import matplotlib.pyplot as plt\n",
        "resultado.plot()\n",
        "plt.show()"
      ],
      "execution_count": null,
      "outputs": []
    },
    {
      "cell_type": "markdown",
      "metadata": {
        "id": "MXKMUZQi__Zw",
        "colab_type": "text"
      },
      "source": [
        "#### Diferenciação\n",
        "\n",
        "- *Diferenciação de primeiro nível*\n",
        "- *Converte níveis para alterações*\n",
        "\n",
        "\n",
        "\n",
        "                  value(t) = observation(t) − observation(t − 1)"
      ]
    },
    {
      "cell_type": "code",
      "metadata": {
        "id": "u20xdbJN1yCY",
        "colab_type": "code",
        "colab": {}
      },
      "source": [
        "# cria uma lista vazia\n",
        "diff = list()"
      ],
      "execution_count": null,
      "outputs": []
    },
    {
      "cell_type": "code",
      "metadata": {
        "id": "cAXCOEBsAOsy",
        "colab_type": "code",
        "colab": {}
      },
      "source": [
        "# para cada valor da série, subtrair pelo valor anterior\n",
        "for i in range(1, len(series.values)):\n",
        "  valor = series.values[i] - series.values[i - 1]\n",
        "  diff.append(valor)"
      ],
      "execution_count": null,
      "outputs": []
    },
    {
      "cell_type": "code",
      "metadata": {
        "id": "WdHjDdv3AgLU",
        "colab_type": "code",
        "colab": {}
      },
      "source": [
        "# imprime os 10 primeiros valores da série\n",
        "diff[:10]"
      ],
      "execution_count": null,
      "outputs": []
    },
    {
      "cell_type": "code",
      "metadata": {
        "id": "VNxB1GUxAj4c",
        "colab_type": "code",
        "colab": {}
      },
      "source": [
        "# plota a série após a diferenciação\n",
        "from matplotlib import pyplot\n",
        "pyplot.plot(diff)"
      ],
      "execution_count": null,
      "outputs": []
    },
    {
      "cell_type": "code",
      "metadata": {
        "id": "bV_CE9oFQaCZ",
        "colab_type": "code",
        "colab": {}
      },
      "source": [
        "series.plot()"
      ],
      "execution_count": null,
      "outputs": []
    },
    {
      "cell_type": "markdown",
      "metadata": {
        "id": "um69sJbYCUO5",
        "colab_type": "text"
      },
      "source": [
        "Removendo Sazonalidade"
      ]
    },
    {
      "cell_type": "code",
      "metadata": {
        "id": "_cgxtWzMOARh",
        "colab_type": "code",
        "colab": {}
      },
      "source": [
        "import pandas as pd\n",
        "series = pd.read_csv('/content/drive/My Drive/Curso Séries Temporais/Materiais de Apoio/champagne_sales.csv', header=0, index_col=0, parse_dates=True, squeeze=True)"
      ],
      "execution_count": null,
      "outputs": []
    },
    {
      "cell_type": "code",
      "metadata": {
        "id": "g_cUhzpJ-K0j",
        "colab_type": "code",
        "colab": {}
      },
      "source": [
        "series.head()"
      ],
      "execution_count": null,
      "outputs": []
    },
    {
      "cell_type": "code",
      "metadata": {
        "id": "23ZrU8-l-151",
        "colab_type": "code",
        "colab": {}
      },
      "source": [
        "# cria uma lista chamada diff\n",
        "diff = list()\n",
        "\n",
        "# define o número de mês que iremos usar\n",
        "mes = 1\n",
        "\n",
        "# intera sobre os valores da série\n",
        "for i in range(mes, len(series.values)):\n",
        "  \n",
        "  # a variavel valor recebe o valor da série atual - o valor da série do mês anterior..\n",
        "  valor = series.values[i] - series.values[i - mes]\n",
        "  \n",
        "  # alimenta a lista diff\n",
        "  diff.append(valor)  "
      ],
      "execution_count": null,
      "outputs": []
    },
    {
      "cell_type": "code",
      "metadata": {
        "id": "stEW3iX7BbaQ",
        "colab_type": "code",
        "colab": {}
      },
      "source": [
        "from matplotlib import pyplot\n",
        "pyplot.plot(diff)\n",
        "pyplot.show()"
      ],
      "execution_count": null,
      "outputs": []
    },
    {
      "cell_type": "markdown",
      "metadata": {
        "id": "8B4HNql2aPmA",
        "colab_type": "text"
      },
      "source": [
        "### Estacionariedade em Séries temporais\n",
        "\n",
        "- Séries temporais são diferentes de problemas tradicionais de classificação e regressão. A estrutura temporal adiciona uma ordem as observações.\n",
        "- Essa ordem imposta significa que suposições importantes sobre a consistência dessas observações precisam ser tratadas especialmente.\n",
        "- Na terminologia de séries temporais, as séries cuja resumos estatísticos são constantes chamamos de séries estacionárias.\n",
        "\n",
        "**Verifica estacionariedade de uma série:**\n",
        "\n",
        "*   Olhe os gráficos.\n",
        "*   Estatítica descritiva.\n",
        "*   Testes Estatísticos.\n",
        "\n"
      ]
    },
    {
      "cell_type": "code",
      "metadata": {
        "id": "gdnUsvStCi5F",
        "colab_type": "code",
        "colab": {}
      },
      "source": [
        "import pandas as pd\n",
        "series = pd.read_csv('/content/drive/My Drive/Curso Séries Temporais/Materiais de Apoio/champagne_sales.csv', header=0, index_col=0, parse_dates=True, squeeze=True)"
      ],
      "execution_count": null,
      "outputs": []
    },
    {
      "cell_type": "markdown",
      "metadata": {
        "id": "j4d-jZTuGZFG",
        "colab_type": "text"
      },
      "source": [
        "Analisando o histograma da série"
      ]
    },
    {
      "cell_type": "code",
      "metadata": {
        "id": "FXd-ofz-lEi2",
        "colab_type": "code",
        "colab": {}
      },
      "source": [
        "from matplotlib import pyplot\n",
        "series.hist()\n",
        "pyplot.show()"
      ],
      "execution_count": null,
      "outputs": []
    },
    {
      "cell_type": "code",
      "metadata": {
        "id": "mlO0alIMC_Fc",
        "colab_type": "code",
        "colab": {}
      },
      "source": [
        "# separa os dados em duas partes\n",
        "split = int(len(series.values) / 2)"
      ],
      "execution_count": null,
      "outputs": []
    },
    {
      "cell_type": "code",
      "metadata": {
        "id": "Gg2R9P_lDxoi",
        "colab_type": "code",
        "colab": {}
      },
      "source": [
        "print (len(series.values))\n",
        "print (split)"
      ],
      "execution_count": null,
      "outputs": []
    },
    {
      "cell_type": "code",
      "metadata": {
        "id": "6nhRE6_eDrN0",
        "colab_type": "code",
        "colab": {}
      },
      "source": [
        "# Divide os dados em duas partes e coloca nas variáveis x1 e x2\n",
        "X1 = series.values[0:split]\n",
        "X2 = series.values[split:]"
      ],
      "execution_count": null,
      "outputs": []
    },
    {
      "cell_type": "code",
      "metadata": {
        "id": "m1218-ImDd_w",
        "colab_type": "code",
        "colab": {}
      },
      "source": [
        "# calcula as médias\n",
        "mean1 =  X1.mean()\n",
        "mean2 =  X2.mean()"
      ],
      "execution_count": null,
      "outputs": []
    },
    {
      "cell_type": "code",
      "metadata": {
        "id": "5Jkv7OgsUfk-",
        "colab_type": "code",
        "colab": {}
      },
      "source": [
        "#mean1\n",
        "mean2"
      ],
      "execution_count": null,
      "outputs": []
    },
    {
      "cell_type": "code",
      "metadata": {
        "id": "k4eA8MMgErmG",
        "colab_type": "code",
        "colab": {}
      },
      "source": [
        "# calcula a variância entre as partes\n",
        "var1, var2 = X1.var(), X2.var()"
      ],
      "execution_count": null,
      "outputs": []
    },
    {
      "cell_type": "code",
      "metadata": {
        "id": "afLS_eqEDd8D",
        "colab_type": "code",
        "colab": {}
      },
      "source": [
        "# imprime média e variância entre as partes\n",
        "print('media1= %f, \\nmedia2= %f' % (mean1, mean2))"
      ],
      "execution_count": null,
      "outputs": []
    },
    {
      "cell_type": "code",
      "metadata": {
        "id": "k2yMted7Dd09",
        "colab_type": "code",
        "colab": {}
      },
      "source": [
        "print('variancia1= %f, \\nvariancia2= %f' % (var1, var2))"
      ],
      "execution_count": null,
      "outputs": []
    },
    {
      "cell_type": "markdown",
      "metadata": {
        "id": "e5m6vQ9CIm9E",
        "colab_type": "text"
      },
      "source": [
        "Teste Estatístico - Augmented Dickey-Fuller test\n",
        "\n",
        "- Hipotese Nula (H0): *Falha para rejeitar, sugere que a série não é estacionária. Esta tem estrutura dependente de tempo.*\n",
        "\n",
        "- Hipotese Alternativa (H1): *A hipotese nula foi rejeitada, sugere que a série temporal é estacionária. Esta não tem estrutura dependente de tempo.*\n",
        "\n",
        "* **p-value > 0.05**: Falha para rejeitar a hipotese nula (h0) a série é não estacionária.\n",
        "\n",
        "* **p-value ≤ 0.05**: Rejeita a hipotese nula (H0), a série é estacionária."
      ]
    },
    {
      "cell_type": "code",
      "metadata": {
        "id": "rNWJox7lDdoL",
        "colab_type": "code",
        "colab": {}
      },
      "source": [
        "import pandas.util.testing as tm\n",
        "from statsmodels.tsa.stattools import adfuller"
      ],
      "execution_count": null,
      "outputs": []
    },
    {
      "cell_type": "code",
      "metadata": {
        "id": "YYZENtvLIrMy",
        "colab_type": "code",
        "colab": {}
      },
      "source": [
        "resultado = adfuller(series.values)"
      ],
      "execution_count": null,
      "outputs": []
    },
    {
      "cell_type": "code",
      "metadata": {
        "id": "ASpPStPKIrJq",
        "colab_type": "code",
        "colab": {}
      },
      "source": [
        "print('ADF teste: %f' % resultado[0])"
      ],
      "execution_count": null,
      "outputs": []
    },
    {
      "cell_type": "code",
      "metadata": {
        "id": "-NsMu3-RIrGC",
        "colab_type": "code",
        "colab": {}
      },
      "source": [
        "print('p-value: %f' % resultado[1])"
      ],
      "execution_count": null,
      "outputs": []
    },
    {
      "cell_type": "code",
      "metadata": {
        "id": "aed-yEpOIqy7",
        "colab_type": "code",
        "colab": {}
      },
      "source": [
        "print('Critical Values:')\n",
        "for key, value in resultado[4].items():\n",
        "  print('\\t%s: %.3f' % (key, value))"
      ],
      "execution_count": null,
      "outputs": []
    },
    {
      "cell_type": "markdown",
      "metadata": {
        "id": "mCPix2MdORDh",
        "colab_type": "text"
      },
      "source": [
        "### Transformando a Série Temporal em Estacionária:\n",
        "\n",
        "Aplicando Log na série"
      ]
    },
    {
      "cell_type": "code",
      "metadata": {
        "id": "rPQhA0dfOOlG",
        "colab_type": "code",
        "colab": {}
      },
      "source": [
        "from numpy import log"
      ],
      "execution_count": null,
      "outputs": []
    },
    {
      "cell_type": "code",
      "metadata": {
        "id": "2GxVkxp1OOak",
        "colab_type": "code",
        "colab": {}
      },
      "source": [
        "serie_transformada = log(series.values)"
      ],
      "execution_count": null,
      "outputs": []
    },
    {
      "cell_type": "code",
      "metadata": {
        "id": "hBkpA52MPQ1G",
        "colab_type": "code",
        "colab": {}
      },
      "source": [
        "from matplotlib import pyplot\n",
        "pyplot.hist(serie_transformada)\n",
        "pyplot.show()"
      ],
      "execution_count": null,
      "outputs": []
    },
    {
      "cell_type": "code",
      "metadata": {
        "id": "dYB4-jQiOODU",
        "colab_type": "code",
        "colab": {}
      },
      "source": [
        "resultado = adfuller(serie_transformada)\n",
        "print('\\nADF teste: %f' % resultado[0])\n",
        "print('\\np-value: %f' % resultado[1])\n",
        "print('\\nCritical Values:')\n",
        "for key, value in resultado[4].items():\n",
        "  print('\\t%s: %.3f' % (key, value))"
      ],
      "execution_count": null,
      "outputs": []
    },
    {
      "cell_type": "markdown",
      "metadata": {
        "id": "33cJdDwNwAsU",
        "colab_type": "text"
      },
      "source": [
        "Aplicando a diferenciação"
      ]
    },
    {
      "cell_type": "code",
      "metadata": {
        "id": "fy4bvDdvvZH4",
        "colab_type": "code",
        "colab": {}
      },
      "source": [
        "# cria uma lista chamada diff\n",
        "diff = list()\n",
        "mes = 1\n",
        "for i in range(mes, len(series.values)):\n",
        "  # a variavel valor recebe o valor da série atual - o valor da série do mês anterior..\n",
        "  valor = series.values[i] - series.values[i - mes]\n",
        "  # alimenta a lista diff\n",
        "  diff.append(valor)"
      ],
      "execution_count": null,
      "outputs": []
    },
    {
      "cell_type": "markdown",
      "metadata": {
        "id": "arzcVD0SxXEz",
        "colab_type": "text"
      },
      "source": [
        "Aplicando o Teste AdFuller"
      ]
    },
    {
      "cell_type": "code",
      "metadata": {
        "id": "Sr0wboLgwKzd",
        "colab_type": "code",
        "colab": {}
      },
      "source": [
        "import pandas.util.testing as tm\n",
        "from statsmodels.tsa.stattools import adfuller\n",
        "\n",
        "resultado = adfuller(diff)\n",
        "print('\\nADF teste: %f' % resultado[0])\n",
        "print('\\np-value: %f' % resultado[1])\n",
        "print('\\nCritical Values:')\n",
        "for key, value in resultado[4].items():\n",
        "  print('\\t%s: %.3f' % (key, value))"
      ],
      "execution_count": null,
      "outputs": []
    },
    {
      "cell_type": "markdown",
      "metadata": {
        "id": "Bu1rEmecif4o",
        "colab_type": "text"
      },
      "source": [
        "### Modelos de Previsão usando Autoregressão"
      ]
    },
    {
      "cell_type": "markdown",
      "metadata": {
        "id": "TYwxlxI1uVX-",
        "colab_type": "text"
      },
      "source": [
        "#### **`ARIMA`**\n",
        "\n",
        "Método estatístico que utiliza um modelo linear que utiliza autoregressão e modelo de média móvel para previsão de séries temporais. Um modelo linear é construído incluindo um número especificado de termos e o dado é preparado por um nível de diferenciação afim de tornar este estacionário.\n",
        "\n",
        "Podemos usar um valor 0 para desligar um parâmetro, dessa forma, aquela função em questão não será feita, por exemplo, se no parâmetro d definirmos 0 não será realizada uma diferenciação nos dados. Neste exemplo teríamos um modelo **ARMA**.\n",
        "\n",
        "---\n",
        "\n",
        "*   **AR**: *Autoregression* : Um modelo que usa a relação dependende entre uma observação e alguns lags.\n",
        "\n",
        "*   **I**: *Integrated*  : Uso de diferenciação nas observações brutas, exemplo: subtração do valor de uma observação com sua observação anterior. O objetivo é transformar a série temporal em estacionária.\n",
        "\n",
        "*  **MA**: *Moving Average* : Um modelo que usa a dependência entre a observação e o erro residual a partir de um modelo de média móvel aplicado a lags.\n",
        "\n",
        "          residual error = expected − predicted\n",
        "    \n",
        "- Isso é diferente de **Moving Average Smoothing.**\n",
        "- Erros residuais contém estruturas temporais que podem ser modeladas.\n",
        "- Existem sinais complexos nos erros residuais.\n",
        "- Um modelo que prever o erro residual pode ser usado para ajustar os próximos erros e melhorar um modelo que aprende com o histórico.\n",
        "\n",
        "\n",
        "\n",
        "\n",
        "---\n",
        "\n",
        "O modelo arima contém alguns parâmetros\n",
        "\n",
        "\n",
        "```\n",
        "# ARIMA(p,d,q)\n",
        "```\n",
        "*   **p:** O número de lags que foram devem ser incluídos no modelo.\n",
        "*   **d:** O número de vezes que as observações serão diferenciadas.\n",
        "*   **q:** O tamanho de uma janela de média móvel. Também chamada de ordem de média móvel."
      ]
    },
    {
      "cell_type": "code",
      "metadata": {
        "id": "DX57sq2oyK2c",
        "colab_type": "code",
        "colab": {}
      },
      "source": [
        "import pandas as pd\n",
        "series = pd.read_csv('/content/drive/My Drive/Curso Séries Temporais/Materiais de Apoio/champagne_sales.csv', header=0, index_col=0, parse_dates=True, squeeze=True)"
      ],
      "execution_count": null,
      "outputs": []
    },
    {
      "cell_type": "code",
      "metadata": {
        "id": "Et3xVGiB-hox",
        "colab_type": "code",
        "colab": {}
      },
      "source": [
        "from pandas.plotting import autocorrelation_plot\n",
        "from matplotlib import pyplot"
      ],
      "execution_count": null,
      "outputs": []
    },
    {
      "cell_type": "code",
      "metadata": {
        "id": "MQa9VD2syMEs",
        "colab_type": "code",
        "colab": {}
      },
      "source": [
        "# autocorrelation plot \n",
        "autocorrelation_plot(series)\n",
        "pyplot.show()"
      ],
      "execution_count": null,
      "outputs": []
    },
    {
      "cell_type": "code",
      "metadata": {
        "id": "VIkEi5an_zec",
        "colab_type": "code",
        "colab": {}
      },
      "source": [
        "import pandas.util.testing as tm\n",
        "from statsmodels.graphics.tsaplots import plot_acf\n",
        "from statsmodels.graphics.tsaplots import plot_pacf\n",
        "from matplotlib import pyplot"
      ],
      "execution_count": null,
      "outputs": []
    },
    {
      "cell_type": "code",
      "metadata": {
        "id": "RzQfTJru-pKs",
        "colab_type": "code",
        "colab": {}
      },
      "source": [
        "plot_acf(series, lags=40)\n",
        "pyplot.show()"
      ],
      "execution_count": null,
      "outputs": []
    },
    {
      "cell_type": "markdown",
      "metadata": {
        "id": "UYnXH-TY91o7",
        "colab_type": "text"
      },
      "source": [
        "Modelo ARIMA para análise de dados"
      ]
    },
    {
      "cell_type": "code",
      "metadata": {
        "id": "Wn2dy3I69Oei",
        "colab_type": "code",
        "colab": {}
      },
      "source": [
        "# fit model\n",
        "from statsmodels.tsa.arima_model import ARIMA\n",
        "from matplotlib import pyplot"
      ],
      "execution_count": null,
      "outputs": []
    },
    {
      "cell_type": "code",
      "metadata": {
        "id": "Th1xVunqF2qY",
        "colab_type": "code",
        "colab": {}
      },
      "source": [
        "model = ARIMA(series, order=(5,1,0))"
      ],
      "execution_count": null,
      "outputs": []
    },
    {
      "cell_type": "code",
      "metadata": {
        "id": "_sfLHcUM9OZa",
        "colab_type": "code",
        "colab": {}
      },
      "source": [
        "model_fit = model.fit()"
      ],
      "execution_count": null,
      "outputs": []
    },
    {
      "cell_type": "code",
      "metadata": {
        "id": "Udhme4OC9OHw",
        "colab_type": "code",
        "colab": {}
      },
      "source": [
        "# summary of fit model \n",
        "print(model_fit.summary())"
      ],
      "execution_count": null,
      "outputs": []
    },
    {
      "cell_type": "code",
      "metadata": {
        "id": "HZw5DCaN9gpQ",
        "colab_type": "code",
        "colab": {}
      },
      "source": [
        "# line plot of residuals\n",
        "from pandas import DataFrame\n",
        "residuals = DataFrame(model_fit.resid)"
      ],
      "execution_count": null,
      "outputs": []
    },
    {
      "cell_type": "code",
      "metadata": {
        "id": "dkhUS1UP9gl4",
        "colab_type": "code",
        "colab": {}
      },
      "source": [
        "residuals.plot()\n",
        "pyplot.show()"
      ],
      "execution_count": null,
      "outputs": []
    },
    {
      "cell_type": "code",
      "metadata": {
        "id": "2rm9loNG9gir",
        "colab_type": "code",
        "colab": {}
      },
      "source": [
        "# density plot of residuals \n",
        "residuals.plot(kind='kde')\n",
        "pyplot.show()"
      ],
      "execution_count": null,
      "outputs": []
    },
    {
      "cell_type": "code",
      "metadata": {
        "id": "Eb-Y5DLr9gPR",
        "colab_type": "code",
        "colab": {}
      },
      "source": [
        "# summary stats of residuals\n",
        "print(residuals.describe())"
      ],
      "execution_count": null,
      "outputs": []
    },
    {
      "cell_type": "markdown",
      "metadata": {
        "id": "NPesnsTgQvNp",
        "colab_type": "text"
      },
      "source": [
        "### Projeto: Prevendo dados futuros."
      ]
    },
    {
      "cell_type": "code",
      "metadata": {
        "id": "URCeAzEvaCws",
        "colab_type": "code",
        "colab": {}
      },
      "source": [
        "import pandas as pd\n",
        "series = pd.read_csv('/content/drive/My Drive/Curso Séries Temporais/Materiais de Apoio/champagne_sales.csv', header=0, index_col=0, parse_dates=True, squeeze=True)"
      ],
      "execution_count": null,
      "outputs": []
    },
    {
      "cell_type": "code",
      "metadata": {
        "id": "UWJODS01W7bR",
        "colab_type": "code",
        "colab": {}
      },
      "source": [
        "from IPython.display import Image\n",
        "Image('/content/drive/My Drive/Curso Séries Temporais/Materiais de Apoio/time_series_project.png')"
      ],
      "execution_count": null,
      "outputs": []
    },
    {
      "cell_type": "markdown",
      "metadata": {
        "id": "bXZ7G0T9Xx-m",
        "colab_type": "text"
      },
      "source": [
        "**Boas Práticas**\n",
        "\n",
        "*   Comece com um baseline simples para ter referência.\n",
        "*   Faça uma análise de dados antes de iniciar previsão de valores.\n",
        "*   Teste Modelos difentes e avalie:\n",
        "  - Complexidade.\n",
        "  - Intepretabilidade.\n",
        "  - Custo computacional.\n",
        "*   Faça teste A/B antes de colocar em produção sua solução."
      ]
    },
    {
      "cell_type": "markdown",
      "metadata": {
        "id": "u-ICxfzdja0F",
        "colab_type": "text"
      },
      "source": [
        "**Separando os dados para treino, teste e validação**"
      ]
    },
    {
      "cell_type": "markdown",
      "metadata": {
        "colab_type": "text",
        "id": "Esbmp8MiZOB1"
      },
      "source": [
        "Vamos separar dois arquivos fisicos:\n",
        "\n",
        "  - **dataset.csv**: Dados de 1964 a setembro de 1971.\n",
        "\n",
        "  - **validation.csv**: Dados de Outubro de 1971 a Outubro de 1972 (1 ano de vendas)."
      ]
    },
    {
      "cell_type": "code",
      "metadata": {
        "colab_type": "code",
        "id": "Eq0zMXYwZOB3",
        "colab": {}
      },
      "source": [
        "# pega a quantidade de linhas e subtrai por 12\n",
        "split_point = len(series) - 12"
      ],
      "execution_count": null,
      "outputs": []
    },
    {
      "cell_type": "code",
      "metadata": {
        "colab_type": "code",
        "id": "4WLOQNvdZOB6",
        "colab": {}
      },
      "source": [
        "# define que a variável dataset vai conter linhas até o split_point\n",
        "dataset = series[0:split_point]"
      ],
      "execution_count": null,
      "outputs": []
    },
    {
      "cell_type": "code",
      "metadata": {
        "colab_type": "code",
        "id": "9tuLmKe4ZOCF",
        "colab": {}
      },
      "source": [
        "# define que a variável validation terá os dados do split_point em diante\n",
        "validation = series[split_point:]"
      ],
      "execution_count": null,
      "outputs": []
    },
    {
      "cell_type": "code",
      "metadata": {
        "colab_type": "code",
        "id": "l4SYxoQ6ZOCK",
        "colab": {}
      },
      "source": [
        "# imprime o tamanho dos conjuntos\n",
        "print('Dataset %d, Validation %d' % (len(dataset), len(validation)))"
      ],
      "execution_count": null,
      "outputs": []
    },
    {
      "cell_type": "code",
      "metadata": {
        "colab_type": "code",
        "id": "YdaBkdPtZOCN",
        "colab": {}
      },
      "source": [
        "# escreve para o disco\n",
        "dataset.to_csv('dataset.csv')"
      ],
      "execution_count": null,
      "outputs": []
    },
    {
      "cell_type": "code",
      "metadata": {
        "colab_type": "code",
        "id": "TY_2jxMrZOCR",
        "colab": {}
      },
      "source": [
        "# escreve para o disco.\n",
        "validation.to_csv('validation.csv')"
      ],
      "execution_count": null,
      "outputs": []
    },
    {
      "cell_type": "markdown",
      "metadata": {
        "id": "JZVbvFvSQ9hX",
        "colab_type": "text"
      },
      "source": [
        "**Analise de Dados**"
      ]
    },
    {
      "cell_type": "code",
      "metadata": {
        "id": "3U05dUejEJlm",
        "colab_type": "code",
        "colab": {}
      },
      "source": [
        "import pandas as pd\n",
        "series = pd.read_csv('/content/dataset.csv', header=0, index_col=0, parse_dates=True, squeeze=True)"
      ],
      "execution_count": null,
      "outputs": []
    },
    {
      "cell_type": "code",
      "metadata": {
        "id": "wtL2Vb08W7Yb",
        "colab_type": "code",
        "colab": {}
      },
      "source": [
        "series.describe()"
      ],
      "execution_count": null,
      "outputs": []
    },
    {
      "cell_type": "markdown",
      "metadata": {
        "id": "b0JzdFKjREe9",
        "colab_type": "text"
      },
      "source": [
        "*   A média é de 4,641 isso significa em o nível da nossa série é de 4,641 vendas em média.\n",
        "*   O desvio padrão é relativamente alto 2,486 vendas variando a partir da média.\n",
        "*   Os quartis juntamente com o desvio padrão nos mostra que os dados estão espalhados da média."
      ]
    },
    {
      "cell_type": "code",
      "metadata": {
        "id": "CVVj8rrEQ8Lm",
        "colab_type": "code",
        "colab": {}
      },
      "source": [
        "# Dados na linha do tempo\n",
        "series.plot()"
      ],
      "execution_count": null,
      "outputs": []
    },
    {
      "cell_type": "markdown",
      "metadata": {
        "id": "bXmo03RkRU6q",
        "colab_type": "text"
      },
      "source": [
        "   - Aparentemente existe um aumento de tendência de vendas ao longo dos anos.\n",
        "   - Aparentemente existe uma sazonalidade nas vendas por anos.\n",
        "   - Aparentemente a amplitude da sazonalidade aumenta conforme a tendência, isso pode sugerir um relacionamento multiplicativo.\n",
        "   - Aparentemente não existe qualquer outlier.\n",
        "   - Como vimos que há uma tendência e uma sazonalidade (obvias) isso nos dá forte indício que estamos trabalhando com uma série não estacionária."
      ]
    },
    {
      "cell_type": "markdown",
      "metadata": {
        "id": "hyOGJEfVdAkz",
        "colab_type": "text"
      },
      "source": [
        "**Visualizando a Sazonalidade**\n",
        "\n",
        "Podemos confirmar nossa suposição de que a sazonalidae é anual. No código abaixo plotamos os dados agrupados por ano para visualizar as vendas de cada ano. \n"
      ]
    },
    {
      "cell_type": "code",
      "metadata": {
        "id": "ZRHqmpVBcbwn",
        "colab_type": "code",
        "colab": {}
      },
      "source": [
        "from pandas import DataFrame\n",
        "from pandas import Grouper"
      ],
      "execution_count": null,
      "outputs": []
    },
    {
      "cell_type": "code",
      "metadata": {
        "id": "XViBiLeCeiGw",
        "colab_type": "code",
        "colab": {}
      },
      "source": [
        "grupos = series['1964':'1970'].groupby(Grouper(freq='A'))\n",
        "anos = DataFrame()\n",
        "for nome, grupo in grupos:\n",
        "  anos[nome.year] = grupo.values\n",
        "\n",
        "anos.plot(figsize=(10,5)\n",
        "          ,subplots=True\n",
        "          ,title='Vendas em meses por anos')"
      ],
      "execution_count": null,
      "outputs": []
    },
    {
      "cell_type": "markdown",
      "metadata": {
        "id": "GnFfA4KGdrWC",
        "colab_type": "text"
      },
      "source": [
        "- Podemos ver claramente que as vendas caiem em agosto e aumentam do final do mês seguinte até o final do ano. Isso se repete a cada ano."
      ]
    },
    {
      "cell_type": "markdown",
      "metadata": {
        "id": "UiEmzvgrfgAg",
        "colab_type": "text"
      },
      "source": [
        "**Plotando a distribuição da Série**\n",
        "-  A distribuição não é uma normal.\n",
        "-  A forma tem uma longa cauda a direita. Isso pode sugerir algum tipo de transformação."
      ]
    },
    {
      "cell_type": "code",
      "metadata": {
        "id": "p8ajx07AQ8IW",
        "colab_type": "code",
        "colab": {}
      },
      "source": [
        "# Distribuição da Série\n",
        "from matplotlib import pyplot\n",
        "pyplot.figure(1)\n",
        "pyplot.subplot(211)\n",
        "series.hist()\n",
        "pyplot.subplot(212)\n",
        "series.plot(kind='kde')\n",
        "pyplot.show()"
      ],
      "execution_count": null,
      "outputs": []
    },
    {
      "cell_type": "markdown",
      "metadata": {
        "id": "Ia3EybNFDNXo",
        "colab_type": "text"
      },
      "source": [
        "**Visualizando Autocorrelação**"
      ]
    },
    {
      "cell_type": "code",
      "metadata": {
        "id": "cP7gzlyrC947",
        "colab_type": "code",
        "colab": {}
      },
      "source": [
        "import pandas.util.testing as tm\n",
        "from statsmodels.graphics.tsaplots import plot_acf\n",
        "from statsmodels.graphics.tsaplots import plot_pacf\n",
        "from matplotlib import pyplot"
      ],
      "execution_count": null,
      "outputs": []
    },
    {
      "cell_type": "code",
      "metadata": {
        "id": "A_eqXF8JDWxI",
        "colab_type": "code",
        "colab": {}
      },
      "source": [
        "plot_acf(series, lags=40)\n",
        "pyplot.show()"
      ],
      "execution_count": null,
      "outputs": []
    },
    {
      "cell_type": "markdown",
      "metadata": {
        "id": "Ikcf9gN5C3WG",
        "colab_type": "text"
      },
      "source": [
        "**Checando Estacionariedade**"
      ]
    },
    {
      "cell_type": "code",
      "metadata": {
        "id": "-hZICmrqCxut",
        "colab_type": "code",
        "colab": {}
      },
      "source": [
        "import pandas.util.testing as tm\n",
        "from statsmodels.tsa.stattools import adfuller\n",
        "\n",
        "resultado = adfuller(series.values)\n",
        "print('\\nADF teste: %f' % resultado[0])\n",
        "print('\\np-value: %f' % resultado[1])\n",
        "print('\\nCritical Values:')\n",
        "for key, value in resultado[4].items():\n",
        "  print('\\t%s: %.3f' % (key, value))"
      ],
      "execution_count": null,
      "outputs": []
    },
    {
      "cell_type": "markdown",
      "metadata": {
        "id": "SLifjkVc4nP2",
        "colab_type": "text"
      },
      "source": [
        "**Especificando um Baseline**\n",
        "- Um baseline é um valor simples que temos para começar o nosso projeto.\n",
        "- Serve de referência para saber como nosso modelo está se saindo.\n",
        "- Exemplo: Valor de previsão é o valor anterior, no nosso caso, o valor do mês anterior."
      ]
    },
    {
      "cell_type": "code",
      "metadata": {
        "id": "-1QbWkGYByCP",
        "colab_type": "code",
        "colab": {}
      },
      "source": [
        "import pandas as pd\n",
        "series = pd.read_csv('/content/drive/My Drive/Curso Séries Temporais/Materiais de Apoio/champagne_sales.csv', header=0, index_col=0, parse_dates=True, squeeze=True)"
      ],
      "execution_count": null,
      "outputs": []
    },
    {
      "cell_type": "code",
      "metadata": {
        "id": "TC2EVsgc4mvx",
        "colab_type": "code",
        "colab": {}
      },
      "source": [
        "# atribui os dados a variável X \n",
        "X = series.values"
      ],
      "execution_count": null,
      "outputs": []
    },
    {
      "cell_type": "code",
      "metadata": {
        "id": "2e_E9gRO4mAX",
        "colab_type": "code",
        "colab": {}
      },
      "source": [
        "# define o tamanho do conjunto de treino (50% dos dados para treino e teste)\n",
        "train_size = int(len(X) * 0.50)"
      ],
      "execution_count": null,
      "outputs": []
    },
    {
      "cell_type": "code",
      "metadata": {
        "id": "ZnUThsBe5GzY",
        "colab_type": "code",
        "colab": {}
      },
      "source": [
        "# cria os conjuntos de treino e teste\n",
        "train = X[0:train_size]\n",
        "test = X[train_size:]"
      ],
      "execution_count": null,
      "outputs": []
    },
    {
      "cell_type": "code",
      "metadata": {
        "id": "NkW5uRHp6i-8",
        "colab_type": "code",
        "colab": {}
      },
      "source": [
        "# obtem todos od dados do treino \n",
        "history = [x for x in train]"
      ],
      "execution_count": null,
      "outputs": []
    },
    {
      "cell_type": "code",
      "metadata": {
        "id": "PhEkHtAf7yQu",
        "colab_type": "code",
        "colab": {}
      },
      "source": [
        "# imprime os 10 primeiros valores da variável history\n",
        "history[:10]"
      ],
      "execution_count": null,
      "outputs": []
    },
    {
      "cell_type": "code",
      "metadata": {
        "id": "BjlXcArc79Il",
        "colab_type": "code",
        "colab": {}
      },
      "source": [
        "# imprime o último valor da variável history\n",
        "history[-1]"
      ],
      "execution_count": null,
      "outputs": []
    },
    {
      "cell_type": "code",
      "metadata": {
        "id": "7KcfHEdq7tSN",
        "colab_type": "code",
        "colab": {}
      },
      "source": [
        "# cria lista de previsões\n",
        "predictions = list()"
      ],
      "execution_count": null,
      "outputs": []
    },
    {
      "cell_type": "code",
      "metadata": {
        "id": "WTaACYqG5Gpw",
        "colab_type": "code",
        "colab": {}
      },
      "source": [
        "# aplicando o modelo naive\n",
        "for i in range(len(test)):\n",
        "  \n",
        "  # valor_predito recebe o último valor do conjunto de treino\n",
        "  valor_predito = history[-1]\n",
        "  \n",
        "  # a primeira previsão é o último valor do conjunto de treino\n",
        "  predictions.append(valor_predito)\n",
        "  \n",
        "  # valor real recebe o valor atual do teste.\n",
        "  valor_real = test[i]\n",
        "  \n",
        "  # adiciona o valor real para a lista de historico\n",
        "  history.append(valor_real)\n",
        "  \n",
        "  # imprime valor predito e valor real..\n",
        "  print('Valor Predito=%.3f, Valor }Esperado=%3.f' % (valor_predito, valor_real))"
      ],
      "execution_count": null,
      "outputs": []
    },
    {
      "cell_type": "code",
      "metadata": {
        "id": "AYiQxN-25Sdv",
        "colab_type": "code",
        "colab": {}
      },
      "source": [
        "# avaliando o modelo naive\n",
        "from sklearn.metrics import mean_squared_error\n",
        "from math import sqrt\n",
        "rmse = sqrt(mean_squared_error(test, predictions))\n",
        "print('RMSE: %.3f' % rmse)"
      ],
      "execution_count": null,
      "outputs": []
    },
    {
      "cell_type": "markdown",
      "metadata": {
        "id": "2t99iitRG056",
        "colab_type": "text"
      },
      "source": [
        "**Prevendo dados com ARIMA com Walk Forward**"
      ]
    },
    {
      "cell_type": "markdown",
      "metadata": {
        "id": "12TA4lZaGV_T",
        "colab_type": "text"
      },
      "source": [
        "Visualizando a autocorrelação dos lags."
      ]
    },
    {
      "cell_type": "code",
      "metadata": {
        "id": "VHIUUGVDa4Pb",
        "colab_type": "code",
        "colab": {}
      },
      "source": [
        "import pandas.util.testing as tm\n",
        "from statsmodels.graphics.tsaplots import plot_acf\n",
        "from statsmodels.graphics.tsaplots import plot_pacf\n",
        "from matplotlib import pyplot"
      ],
      "execution_count": null,
      "outputs": []
    },
    {
      "cell_type": "code",
      "metadata": {
        "id": "Vvx9MGvyFZaV",
        "colab_type": "code",
        "colab": {}
      },
      "source": [
        "plot_acf(series, lags=40)\n",
        "pyplot.show()"
      ],
      "execution_count": null,
      "outputs": []
    },
    {
      "cell_type": "markdown",
      "metadata": {
        "id": "0l0FoJSeGnEn",
        "colab_type": "text"
      },
      "source": [
        "Separando os dados de treino e teste"
      ]
    },
    {
      "cell_type": "code",
      "metadata": {
        "id": "PGv_QRP_HRvs",
        "colab_type": "code",
        "colab": {}
      },
      "source": [
        "series.tail()"
      ],
      "execution_count": null,
      "outputs": []
    },
    {
      "cell_type": "code",
      "metadata": {
        "id": "a5-_qFtQG7kY",
        "colab_type": "code",
        "colab": {}
      },
      "source": [
        "# a variável X recebe os dados da série\n",
        "X = series.values\n",
        "X = X.astype('float32')"
      ],
      "execution_count": null,
      "outputs": []
    },
    {
      "cell_type": "code",
      "metadata": {
        "id": "Ba6_IpjBG2TK",
        "colab_type": "code",
        "colab": {}
      },
      "source": [
        "# Separa os dados com 50% dos dados para treino e 50% dos dados para teste\n",
        "size = int(len(X) * 0.50)"
      ],
      "execution_count": null,
      "outputs": []
    },
    {
      "cell_type": "code",
      "metadata": {
        "id": "oD9wvM_VH4YN",
        "colab_type": "code",
        "colab": {}
      },
      "source": [
        "# Separa dados de treino e teste\n",
        "train = X[0:size]\n",
        "test =  X[size:]"
      ],
      "execution_count": null,
      "outputs": []
    },
    {
      "cell_type": "code",
      "metadata": {
        "id": "0YDSZj4QH4UL",
        "colab_type": "code",
        "colab": {}
      },
      "source": [
        "# cria a variável history\n",
        "history = [x for x in train]"
      ],
      "execution_count": null,
      "outputs": []
    },
    {
      "cell_type": "code",
      "metadata": {
        "id": "KZard6vuH4R0",
        "colab_type": "code",
        "colab": {}
      },
      "source": [
        "# cria lista de previsões\n",
        "predictions = list()"
      ],
      "execution_count": null,
      "outputs": []
    },
    {
      "cell_type": "code",
      "metadata": {
        "id": "Mgr01sZbNmZ-",
        "colab_type": "code",
        "colab": {}
      },
      "source": [
        "# Cria a função que faz a diferenciação\n",
        "def difference(dataset, interval=1):\n",
        "  diff = list() \n",
        "  for i in range(interval, len(dataset)):\n",
        "    value = dataset[i] - dataset[i - interval]\n",
        "    diff.append(value)\n",
        "  return diff\n",
        "\n",
        "# cria função que reverte o valor diferenciado para o original\n",
        "def inverse_difference(history, previsao, interval=1):\n",
        "  return previsao + history[-interval]"
      ],
      "execution_count": null,
      "outputs": []
    },
    {
      "cell_type": "code",
      "metadata": {
        "id": "4uldpHVQVI1y",
        "colab_type": "code",
        "colab": {}
      },
      "source": [
        "from statsmodels.tsa.arima_model import ARIMA\n",
        "from matplotlib import pyplot"
      ],
      "execution_count": null,
      "outputs": []
    },
    {
      "cell_type": "code",
      "metadata": {
        "id": "0poL41ZpH4Oo",
        "colab_type": "code",
        "colab": {}
      },
      "source": [
        "# inicia Walk-Forward\n",
        "for t in range(len(test)):\n",
        "  \n",
        "  # difference data\n",
        "  meses_no_ano = 12\n",
        "  diff = difference(history, meses_no_ano)\n",
        "  \n",
        "  # cria um modelo ARIMA com os dados de history\n",
        "  model = ARIMA(diff, order=(1,1,1))\n",
        "  \n",
        "  # treina o modelo ARIMA\n",
        "  model_fit = model.fit(trend='nc', disp=0)\n",
        "  \n",
        "  # a variável valor_predito recebe o valor previsto pelo modelo\n",
        "  valor_predito = model_fit.forecast()[0]\n",
        "\n",
        "  # valor_predito recebe o valor revertido (escala original)\n",
        "  valor_predito = inverse_difference(history, valor_predito, meses_no_ano)\n",
        "   \n",
        "  # adiciona o valor predito na lista de predicões\n",
        "  predictions.append(valor_predito)\n",
        "  \n",
        "  # a variável valor_real recebe o valor real do teste\n",
        "  valor_real = test[t]\n",
        "  \n",
        "  # adiciona o valor real a variável history\n",
        "  history.append(valor_real)\n",
        "\n",
        "  # imprime valor predito e valor real\n",
        "  print('Valor predito=%.3f, Valor esperado=%3.f' % (valor_predito, valor_real))"
      ],
      "execution_count": null,
      "outputs": []
    },
    {
      "cell_type": "code",
      "metadata": {
        "id": "-y-IM2gpH4Lv",
        "colab_type": "code",
        "colab": {}
      },
      "source": [
        "# Avaliando os resultados\n",
        "rmse = sqrt(mean_squared_error(test, predictions))\n",
        "print('Test RMSE: %.3f' % rmse)"
      ],
      "execution_count": null,
      "outputs": []
    },
    {
      "cell_type": "code",
      "metadata": {
        "id": "YXgXwNKOH39T",
        "colab_type": "code",
        "colab": {}
      },
      "source": [
        "# plot forecasts against actual outcomes \n",
        "pyplot.plot(test)\n",
        "pyplot.plot(predictions, color='red')\n",
        "pyplot.show()"
      ],
      "execution_count": null,
      "outputs": []
    },
    {
      "cell_type": "markdown",
      "metadata": {
        "id": "qzveMWE7_dwG",
        "colab_type": "text"
      },
      "source": [
        "**Código inteiro - Importante**"
      ]
    },
    {
      "cell_type": "code",
      "metadata": {
        "id": "H5LITFCJ_SBG",
        "colab_type": "code",
        "colab": {}
      },
      "source": [
        "# cria a variável history\n",
        "history = [x for x in train]\n",
        "\n",
        "# cria lista de previsões\n",
        "predictions = list()\n",
        "\n",
        "# inicia Walk-Forward\n",
        "for t in range(len(test)):\n",
        "  \n",
        "  # difference data\n",
        "  meses_no_ano = 12\n",
        "  diff = difference(history, meses_no_ano)\n",
        "  \n",
        "  # cria um modelo ARIMA com os dados de history\n",
        "  model = ARIMA(diff, order=(1,1,1))\n",
        "  \n",
        "  # treina o modelo ARIMA\n",
        "  model_fit = model.fit(trend='nc', disp=0)\n",
        "  \n",
        "  # a variável valor_predito recebe o valor previsto pelo modelo\n",
        "  valor_predito = model_fit.forecast()[0]\n",
        "\n",
        "  # valor_predito recebe o valor revertido (escala original)\n",
        "  valor_predito = inverse_difference(history, valor_predito, meses_no_ano)\n",
        "   \n",
        "  # adiciona o valor predito na lista de predicões\n",
        "  predictions.append(valor_predito)\n",
        "  \n",
        "  # a variável valor_real recebe o valor real do teste\n",
        "  valor_real = test[t]\n",
        "  \n",
        "  # adiciona o valor real a variável history\n",
        "  history.append(valor_real)\n",
        "\n",
        "  # imprime valor predito e valor real\n",
        "  print('Valor predito=%.3f, Valor esperado=%3.f' % (valor_predito, valor_real))"
      ],
      "execution_count": null,
      "outputs": []
    },
    {
      "cell_type": "markdown",
      "metadata": {
        "id": "1QlgHp6sOmXP",
        "colab_type": "text"
      },
      "source": [
        "#### **Tunning Arima**"
      ]
    },
    {
      "cell_type": "markdown",
      "metadata": {
        "id": "JnWZ6T-o_Glr",
        "colab_type": "text"
      },
      "source": [
        "\n",
        "\n",
        "*   GridSearch\n",
        "*   Teste exaustivo com as combinações de parâmetros (p,d,q)\n",
        "\n"
      ]
    },
    {
      "cell_type": "markdown",
      "metadata": {
        "id": "zP1NQMbggC1t",
        "colab_type": "text"
      },
      "source": [
        "Cria a função que executa o modelo Arima"
      ]
    },
    {
      "cell_type": "code",
      "metadata": {
        "id": "JJs4TK3FMhCF",
        "colab_type": "code",
        "colab": {}
      },
      "source": [
        "def evaluate_arima_model(X, arima_order):\n",
        "  # converte o conjunto de dados\n",
        "  X = X.astype('float32')\n",
        "  # Separa os dados com 50% dos dados para treino e 50% para teste \n",
        "  train_size = int(len(X) * 0.50)\n",
        "  train, test = X[0:train_size], X[train_size:]\n",
        "  history = [x for x in train] \n",
        "  # cria a lista de previsões\n",
        "  predictions = list()\n",
        "  for t in range(len(test)):\n",
        "    # aplica diferenciação nos dados\n",
        "    months_in_year = 12\n",
        "    diff = difference(history, months_in_year)\n",
        "    # treina o modelo ARIMA\n",
        "    model = ARIMA(diff, order=arima_order)\n",
        "    model_fit = model.fit(trend='nc', disp=0)\n",
        "    # recebe os dados previtos pelo modelo\n",
        "    valor_previsto = model_fit.forecast()[0]\n",
        "    valor_previsto = inverse_difference(history, valor_previsto, months_in_year)\n",
        "    # adiciona os dados na lista de previsões\n",
        "    predictions.append(valor_previsto)\n",
        "    history.append(test[t])\n",
        "  # calculate o erro rmse\n",
        "  rmse = sqrt(mean_squared_error(test, predictions))\n",
        "  return rmse"
      ],
      "execution_count": null,
      "outputs": []
    },
    {
      "cell_type": "code",
      "metadata": {
        "id": "d1To6UseMg26",
        "colab_type": "code",
        "colab": {}
      },
      "source": [
        "# Loop com combinações de p, d e q para modelo ARIMA\n",
        "def evaluate_models(dataset, p_values, d_values, q_values):\n",
        "  dataset = dataset.astype('float32')\n",
        "  best_score, best_cfg = float(\"inf\"), None\n",
        "  # intera sobre todos os valores de p\n",
        "  for p in p_values:\n",
        "    # intera sobre todos os valores de d\n",
        "    for d in d_values:\n",
        "      # intera sobre todos os valoes de q\n",
        "      for q in q_values:\n",
        "        order = (p,d,q)\n",
        "        try:\n",
        "          # chama a funcão que executa o ARIMA\n",
        "          rmse = evaluate_arima_model(dataset, order)\n",
        "          if rmse < best_score:\n",
        "            best_score, best_cfg = rmse, order\n",
        "          print('ARIMA%s RMSE=%.3f' % (order,rmse))\n",
        "        except:\n",
        "          continue \n",
        "    print('Best ARIMA%s RMSE=%.3f' % (best_cfg, best_score))"
      ],
      "execution_count": null,
      "outputs": []
    },
    {
      "cell_type": "code",
      "metadata": {
        "id": "Vdn5ZPHzS92d",
        "colab_type": "code",
        "colab": {}
      },
      "source": [
        "# Define a lista de valores para cada parâmetro\n",
        "p_values = range(0, 7)\n",
        "d_values = range(0, 3)\n",
        "q_values = range(0, 7)"
      ],
      "execution_count": null,
      "outputs": []
    },
    {
      "cell_type": "code",
      "metadata": {
        "colab_type": "code",
        "id": "XBXZxdQUTA7L",
        "colab": {}
      },
      "source": [
        "# elimina os warnings da biblioteca\n",
        "import warnings\n",
        "warnings.filterwarnings(\"ignore\")"
      ],
      "execution_count": null,
      "outputs": []
    },
    {
      "cell_type": "code",
      "metadata": {
        "id": "XNL3MnVWAp1e",
        "colab_type": "code",
        "colab": {}
      },
      "source": [
        "# chama a funcão passando os parâmetros\n",
        "evaluate_models(series.values, p_values, d_values, q_values)"
      ],
      "execution_count": null,
      "outputs": []
    },
    {
      "cell_type": "markdown",
      "metadata": {
        "id": "U136Z6YLVno-",
        "colab_type": "text"
      },
      "source": [
        "Executando o modelo com a melhor configuração de ARIMA"
      ]
    },
    {
      "cell_type": "code",
      "metadata": {
        "id": "kEVCLJpnFnaE",
        "colab_type": "code",
        "colab": {}
      },
      "source": [
        "# cria a variável history\n",
        "history = [x for x in train]\n",
        "\n",
        "# cria lista de previsões\n",
        "predictions = list()\n",
        "\n",
        "# inicia Walk-Forward\n",
        "for t in range(len(test)):\n",
        "  \n",
        "  # difference data\n",
        "  meses_no_ano = 12\n",
        "  diff = difference(history, meses_no_ano)\n",
        "  \n",
        "  # cria um modelo ARIMA com os dados de history\n",
        "  model = ARIMA(diff, order=(0,0,1))\n",
        "  \n",
        "  # treina o modelo ARIMA\n",
        "  model_fit = model.fit(trend='nc', disp=0)\n",
        "  \n",
        "  # a variável valor_predito recebe o valor previsto pelo modelo\n",
        "  valor_predito = model_fit.forecast()[0]\n",
        "\n",
        "  # valor_predito recebe o valor revertido (escala original)\n",
        "  valor_predito = inverse_difference(history, valor_predito, meses_no_ano)\n",
        "   \n",
        "  # adiciona o valor predito na lista de predicões\n",
        "  predictions.append(valor_predito)\n",
        "  \n",
        "  # a variável valor_real recebe o valor real do teste\n",
        "  valor_real = test[t]\n",
        "  \n",
        "  # adiciona o valor real a variável history\n",
        "  history.append(valor_real)\n",
        "\n",
        "  # imprime valor predito e valor real\n",
        "  print('Valor predito=%.3f, Valor esperado=%3.f' % (valor_predito, valor_real))"
      ],
      "execution_count": null,
      "outputs": []
    },
    {
      "cell_type": "code",
      "metadata": {
        "id": "gltdqHBRFnMm",
        "colab_type": "code",
        "colab": {}
      },
      "source": [
        "# Avaliando os resultados\n",
        "rmse = sqrt(mean_squared_error(test, predictions))\n",
        "print('Test RMSE: %.3f' % rmse)"
      ],
      "execution_count": null,
      "outputs": []
    },
    {
      "cell_type": "markdown",
      "metadata": {
        "id": "ye1tsZSWFqKs",
        "colab_type": "text"
      },
      "source": [
        "#### `Analisando Resíduos`\n",
        "\n",
        "      Erro Residual = Valor esperado − Valor Predito\n",
        "\n",
        "- Erros residuais são erros em previsões de séries temporais.\n",
        "- Uma análise dos erros pode sugerir melhoras no modelo.\n",
        "  - Tendências.\n",
        "  - Sazonalidades."
      ]
    },
    {
      "cell_type": "code",
      "metadata": {
        "id": "294sMQtrVvTJ",
        "colab_type": "code",
        "colab": {}
      },
      "source": [
        "# erros residuais \n",
        "residuals = [test[i] - predictions[i] for i in range(len(test))]"
      ],
      "execution_count": null,
      "outputs": []
    },
    {
      "cell_type": "code",
      "metadata": {
        "id": "zURnVyWZbRLq",
        "colab_type": "code",
        "colab": {}
      },
      "source": [
        "# converte a lista em um dataframe\n",
        "residuals = pd.DataFrame(residuals)"
      ],
      "execution_count": null,
      "outputs": []
    },
    {
      "cell_type": "code",
      "metadata": {
        "id": "aesh-v8hbWMQ",
        "colab_type": "code",
        "colab": {}
      },
      "source": [
        "# imprime as 5 primeiras linhas\n",
        "residuals.head()"
      ],
      "execution_count": null,
      "outputs": []
    },
    {
      "cell_type": "code",
      "metadata": {
        "id": "t8pyizw4WHm7",
        "colab_type": "code",
        "colab": {}
      },
      "source": [
        "# estatística descritiva\n",
        "residuals.describe()"
      ],
      "execution_count": null,
      "outputs": []
    },
    {
      "cell_type": "code",
      "metadata": {
        "id": "-sMMNjLBf9zQ",
        "colab_type": "code",
        "colab": {}
      },
      "source": [
        "# plot residuals\n",
        "residuals.plot()\n",
        "pyplot.show()"
      ],
      "execution_count": null,
      "outputs": []
    },
    {
      "cell_type": "code",
      "metadata": {
        "id": "ITCDPbI_VvMc",
        "colab_type": "code",
        "colab": {}
      },
      "source": [
        "# plots histograma\n",
        "pyplot.figure()\n",
        "pyplot.subplot(211)\n",
        "residuals.hist(ax=pyplot.gca())\n",
        "\n",
        "pyplot.subplot(212)\n",
        "residuals.plot(kind='kde', ax=pyplot.gca())\n",
        "pyplot.show()"
      ],
      "execution_count": null,
      "outputs": []
    },
    {
      "cell_type": "code",
      "metadata": {
        "id": "hxvZ8u0sVvI0",
        "colab_type": "code",
        "colab": {}
      },
      "source": [
        "# importa os pacotes de autocorrelação\n",
        "from statsmodels.graphics.tsaplots import plot_acf\n",
        "from statsmodels.graphics.tsaplots import plot_pacf"
      ],
      "execution_count": null,
      "outputs": []
    },
    {
      "cell_type": "code",
      "metadata": {
        "id": "LrFgscZ0VvDX",
        "colab_type": "code",
        "colab": {}
      },
      "source": [
        "# plots de autocorrelação\n",
        "pyplot.figure() \n",
        "pyplot.subplot(211)\n",
        "plot_acf(residuals, ax=pyplot.gca())\n",
        "pyplot.subplot(212)\n",
        "plot_pacf(residuals, ax=pyplot.gca())\n",
        "pyplot.show()"
      ],
      "execution_count": null,
      "outputs": []
    },
    {
      "cell_type": "markdown",
      "metadata": {
        "id": "xUmm8UNWjcmS",
        "colab_type": "text"
      },
      "source": [
        "Decompondo a série de erro residual"
      ]
    },
    {
      "cell_type": "code",
      "metadata": {
        "id": "sdCZmPpqb6oR",
        "colab_type": "code",
        "colab": {}
      },
      "source": [
        "from statsmodels.tsa.seasonal import seasonal_decompose\n",
        "result = seasonal_decompose(residuals, model='additive', freq=1)\n",
        "result.plot()\n",
        "pyplot.show()"
      ],
      "execution_count": null,
      "outputs": []
    },
    {
      "cell_type": "markdown",
      "metadata": {
        "id": "ww9cpjikMhqg",
        "colab_type": "text"
      },
      "source": [
        "**SARIMA**\n",
        "\n",
        "```\n",
        "# ARIMA(p,d,q)\n",
        "```\n",
        "*   **p:** O número de lags que foram devem ser incluídos no modelo.\n",
        "*   **d:** O número de vezes que as observações serão diferenciadas.\n",
        "*   **q:** O tamanho de uma janela de média móvel. Também chamada de ordem de média móvel.\n",
        "\n",
        "SARIMA(p, d, q).(P,D,Q)m\n",
        "\n",
        "\n",
        "> - SARIMA é usado para séries não estacionárias, que é os dados não flutuam em volta da média. Esse modelo pode identificar tendência e sazonalizadade.\n",
        "\n",
        "> - Porque considerar a sazonalidade é importante?\n",
        "\n",
        "A sazonalidade é importante principalmente quando sabemos que as vendas aumentam ou diminuiem em determinados eventos (feriados, inverno, verão, etc). Podemos querer modelar esses fenômenos.\n",
        "\n",
        "`Exemplo: Não gostaríamos de comparar as vendas do primeiro trimestre de 2020 com as do quarto trimestre de 2019 sem ajustar esse pico sistemático - sem levar em consideração a sazonalidade, assumiríamos por engano que as vendas diminuiram muito (e nossa empresa estava com grandes problemas) quando realmente é apenas a ressaca pós-feriado prevista.`\n",
        "\n"
      ]
    },
    {
      "cell_type": "code",
      "metadata": {
        "id": "4rPE0-DxMg-V",
        "colab_type": "code",
        "colab": {}
      },
      "source": [
        "import statsmodels.api as sm"
      ],
      "execution_count": null,
      "outputs": []
    },
    {
      "cell_type": "code",
      "metadata": {
        "id": "IqWjZJtLMg7I",
        "colab_type": "code",
        "colab": {}
      },
      "source": [
        "# cria a variável history\n",
        "history = [x for x in train]\n",
        "\n",
        "# cria lista de previsões\n",
        "predictions = list()\n",
        "\n",
        "# inicia Walk-Forward\n",
        "for t in range(len(test)):\n",
        "  \n",
        "  # difference data\n",
        "  meses_no_ano = 12\n",
        "\n",
        "  # cria um modelo SARIMA com os dados de history\n",
        "  # desliga a diferenciação do modelo ARIMA\n",
        "  model = sm.tsa.statespace.SARIMAX(history, order=(1,0,1), seasonal_order=(1,1,1, meses_no_ano))\n",
        "  \n",
        "  # treina o modelo SARIMAX\n",
        "  model_fit = model.fit(trend='nc', disp=0)\n",
        "  \n",
        "  # a variável valor_predito recebe o valor previsto pelo modelo\n",
        "  valor_predito = model_fit.forecast()[0]\n",
        " \n",
        "  # adiciona o valor predito na lista de predicões\n",
        "  predictions.append(valor_predito)\n",
        "  \n",
        "  # a variável valor_real recebe o valor real do teste\n",
        "  valor_real = test[t]\n",
        "  \n",
        "  # adiciona o valor real a variável history\n",
        "  history.append(valor_real)\n",
        "\n",
        "  # imprime valor predito e valor real\n",
        "  print('Valor predito=%.3f, Valor esperado=%3.f' % (valor_predito, valor_real))"
      ],
      "execution_count": null,
      "outputs": []
    },
    {
      "cell_type": "code",
      "metadata": {
        "id": "r3ClxfouMg47",
        "colab_type": "code",
        "colab": {}
      },
      "source": [
        "# Avaliando os resultados\n",
        "rmse = sqrt(mean_squared_error(test, predictions))\n",
        "print('Test RMSE: %.3f' % rmse)"
      ],
      "execution_count": null,
      "outputs": []
    },
    {
      "cell_type": "markdown",
      "metadata": {
        "id": "dpi9nQr1kwEo",
        "colab_type": "text"
      },
      "source": [
        "**Facebook Prophet**"
      ]
    },
    {
      "cell_type": "markdown",
      "metadata": {
        "id": "Pfw_sXwqgy1Y",
        "colab_type": "text"
      },
      "source": [
        "- Biblioteca criada pelo Facebook com o objetivo de ser usada na rede social.\n",
        "- Motivação: Facilitar a criação de modelos sem necessariamente ter experts para isso.\n",
        "- Focada em modelar sazonalidades, efeitos de feriados e tratar missing values."
      ]
    },
    {
      "cell_type": "code",
      "metadata": {
        "id": "6FDJUGc4k1LY",
        "colab_type": "code",
        "colab": {}
      },
      "source": [
        "# importa o Prophet\n",
        "from fbprophet import Prophet"
      ],
      "execution_count": null,
      "outputs": []
    },
    {
      "cell_type": "code",
      "metadata": {
        "id": "Z5AdKVz-nCyL",
        "colab_type": "code",
        "colab": {}
      },
      "source": [
        "# ds: features temporais\n",
        "# y: valores a serem preditos\n",
        "\n",
        "dataframe = pd.DataFrame({'ds': dataset.index, 'y': dataset.values})"
      ],
      "execution_count": null,
      "outputs": []
    },
    {
      "cell_type": "code",
      "metadata": {
        "id": "UyoSXecGFFie",
        "colab_type": "code",
        "colab": {}
      },
      "source": [
        "# dataframe do prophet\n",
        "dataframe.head()"
      ],
      "execution_count": null,
      "outputs": []
    },
    {
      "cell_type": "code",
      "metadata": {
        "id": "hAFA0gfinVTS",
        "colab_type": "code",
        "colab": {}
      },
      "source": [
        "# instancia o objeto prophet\n",
        "model = Prophet()"
      ],
      "execution_count": null,
      "outputs": []
    },
    {
      "cell_type": "code",
      "metadata": {
        "id": "B8oHetSrpyhN",
        "colab_type": "code",
        "colab": {}
      },
      "source": [
        "# gerando o modelo\n",
        "model.fit(dataframe)"
      ],
      "execution_count": null,
      "outputs": []
    },
    {
      "cell_type": "code",
      "metadata": {
        "id": "jU312g7NnjrI",
        "colab_type": "code",
        "colab": {}
      },
      "source": [
        "# gerando dados futuros\n",
        "futuro = model.make_future_dataframe(periods = 12, freq='M')"
      ],
      "execution_count": null,
      "outputs": []
    },
    {
      "cell_type": "code",
      "metadata": {
        "id": "SSS8hMaqqF08",
        "colab_type": "code",
        "colab": {}
      },
      "source": [
        "futuro"
      ],
      "execution_count": null,
      "outputs": []
    },
    {
      "cell_type": "code",
      "metadata": {
        "id": "vE4u8inlqiJr",
        "colab_type": "code",
        "colab": {}
      },
      "source": [
        "# prevendo valores para dados futuros\n",
        "saida = model.predict(futuro)"
      ],
      "execution_count": null,
      "outputs": []
    },
    {
      "cell_type": "code",
      "metadata": {
        "id": "bAdbOcqAzZLt",
        "colab_type": "code",
        "colab": {}
      },
      "source": [
        "# imprime saidas\n",
        "saida.head()"
      ],
      "execution_count": null,
      "outputs": []
    },
    {
      "cell_type": "code",
      "metadata": {
        "id": "pu092J8cq5D1",
        "colab_type": "code",
        "colab": {}
      },
      "source": [
        "saida[['ds', 'yhat', 'yhat_lower', 'yhat_upper']].tail(7)"
      ],
      "execution_count": null,
      "outputs": []
    },
    {
      "cell_type": "markdown",
      "metadata": {
        "id": "CJLmPOCMIXKS",
        "colab_type": "text"
      },
      "source": [
        "**Validando o modelo com Prophet**"
      ]
    },
    {
      "cell_type": "code",
      "metadata": {
        "id": "aIJyC-NvIhnh",
        "colab_type": "code",
        "colab": {}
      },
      "source": [
        "# dataset de validação\n",
        "validation_df = pd.DataFrame({'ds': validation.index})"
      ],
      "execution_count": null,
      "outputs": []
    },
    {
      "cell_type": "code",
      "metadata": {
        "id": "kXCZqvDuKq0f",
        "colab_type": "code",
        "colab": {}
      },
      "source": [
        "# dados temporais\n",
        "validation_df['ds']"
      ],
      "execution_count": null,
      "outputs": []
    },
    {
      "cell_type": "code",
      "metadata": {
        "id": "hvFwzqltIWLF",
        "colab_type": "code",
        "colab": {}
      },
      "source": [
        "# aplicando o modelo do prophet\n",
        "saida = model.predict(validation_df)"
      ],
      "execution_count": null,
      "outputs": []
    },
    {
      "cell_type": "code",
      "metadata": {
        "id": "rFxW3NMqLpXi",
        "colab_type": "code",
        "colab": {}
      },
      "source": [
        "# imprime as saidas\n",
        "saida[['ds', 'yhat', 'yhat_lower', 'yhat_upper']]"
      ],
      "execution_count": null,
      "outputs": []
    },
    {
      "cell_type": "code",
      "metadata": {
        "id": "S_Mf3txXMMfe",
        "colab_type": "code",
        "colab": {}
      },
      "source": [
        "validation"
      ],
      "execution_count": null,
      "outputs": []
    },
    {
      "cell_type": "code",
      "metadata": {
        "id": "f1oSN-oWRcq_",
        "colab_type": "code",
        "colab": {}
      },
      "source": [
        "# Avaliando os resultados\n",
        "from sklearn.metrics import mean_squared_error\n",
        "from math import sqrt\n",
        "rmse = sqrt(mean_squared_error(validation.values, saida.yhat))\n",
        "print('Test RMSE: %.3f' % rmse)"
      ],
      "execution_count": null,
      "outputs": []
    },
    {
      "cell_type": "markdown",
      "metadata": {
        "id": "uBLZr-_MREE8",
        "colab_type": "text"
      },
      "source": [
        "**Prevendo o futuro**"
      ]
    },
    {
      "cell_type": "code",
      "metadata": {
        "id": "TRRvvpBVfJhM",
        "colab_type": "code",
        "colab": {}
      },
      "source": [
        "# Python\n",
        "figura = model.plot(saida)"
      ],
      "execution_count": null,
      "outputs": []
    },
    {
      "cell_type": "code",
      "metadata": {
        "id": "joQvtCwyfumA",
        "colab_type": "code",
        "colab": {}
      },
      "source": [
        "model.plot_components(saida)"
      ],
      "execution_count": null,
      "outputs": []
    },
    {
      "cell_type": "markdown",
      "metadata": {
        "id": "6uAURNFlNmLx",
        "colab_type": "text"
      },
      "source": [
        "### Tunning do Prophet\n",
        "\n",
        "- `seasonality_mode`: Este parâmetro indica como seus componentes de sazonalidade devem ser integrados às previsões. O valor padrão é `additive`, com o parâmetro `multiplicative` sendo a outra opção. Você deve usar o  aditivo quando sua tendência de sazonalidade for \"constante\" durante todo o período. Por exemplo, quando você deseja que seu impacto no crescimento da tendência anual seja o mesmo que em 2010 e 2018. Isso é aplicável nos dados em que a mudança de tendência parece permanecer constante, por exemplo, o número de pessoas que vivem em uma cidade pequena. Isso ocorre porque não esperamos que o crescimento aumente repentinamente em milhões, porque não há infraestrutura para isso. Por outro lado, quando queremos prever a quantidade de pessoas que vivem em uma cidade em crescimento, o número anual de tendências pode ser muito mais importante nos últimos anos, pois a infraestrutura existe. A taxa de crescimento populacional pode ser muito mais rápida do que teria sido nos primeiros anos. Em um caso como esse, você usará multiplicativo para aumentar a importância das sazonalidades ao longo do tempo. \n",
        "\n",
        "- `seasonality_prior_scale`. Este parâmetro novamente permitirá que suas sazonalidades sejam mais flexíveis. É possível definir os parâmetros `anual_seasonality`, `Weekly_seasonality` e `daily_seasonality` separadamente ou ainda adiciona sua própria configuração de sazonalidade."
      ]
    },
    {
      "cell_type": "code",
      "metadata": {
        "id": "3Atu0X7bhuhc",
        "colab_type": "code",
        "colab": {}
      },
      "source": [
        "from fbprophet import Prophet"
      ],
      "execution_count": null,
      "outputs": []
    },
    {
      "cell_type": "code",
      "metadata": {
        "id": "uS4vzpr4hubg",
        "colab_type": "code",
        "colab": {}
      },
      "source": [
        "import pandas as pd\n",
        "dataframe = pd.DataFrame({'ds': dataset.index, 'y': dataset.values})"
      ],
      "execution_count": null,
      "outputs": []
    },
    {
      "cell_type": "code",
      "metadata": {
        "id": "QW3qlfftia1V",
        "colab_type": "code",
        "colab": {}
      },
      "source": [
        "dataframe"
      ],
      "execution_count": null,
      "outputs": []
    },
    {
      "cell_type": "markdown",
      "metadata": {
        "id": "Lv5vl8YNmHvH",
        "colab_type": "text"
      },
      "source": [
        "Alterando o modo de sazonalidade"
      ]
    },
    {
      "cell_type": "code",
      "metadata": {
        "id": "WBKiNzmphue0",
        "colab_type": "code",
        "colab": {}
      },
      "source": [
        "model = Prophet(seasonality_mode='multiplicative')"
      ],
      "execution_count": null,
      "outputs": []
    },
    {
      "cell_type": "code",
      "metadata": {
        "id": "hrWgONIAhuX-",
        "colab_type": "code",
        "colab": {}
      },
      "source": [
        "model.fit(dataframe)"
      ],
      "execution_count": null,
      "outputs": []
    },
    {
      "cell_type": "code",
      "metadata": {
        "id": "9Qs3Cd8Qku4V",
        "colab_type": "code",
        "colab": {}
      },
      "source": [
        "validation_df = pd.DataFrame({'ds': validation.index})"
      ],
      "execution_count": null,
      "outputs": []
    },
    {
      "cell_type": "code",
      "metadata": {
        "id": "nBPrB8j1huU-",
        "colab_type": "code",
        "colab": {}
      },
      "source": [
        "saida = model.predict(validation_df)"
      ],
      "execution_count": null,
      "outputs": []
    },
    {
      "cell_type": "code",
      "metadata": {
        "id": "2HqceBQ-huRZ",
        "colab_type": "code",
        "colab": {}
      },
      "source": [
        "# Avaliando os resultados\n",
        "from sklearn.metrics import mean_squared_error\n",
        "from math import sqrt\n",
        "rmse = sqrt(mean_squared_error(validation.values, saida.yhat))\n",
        "print('Test RMSE: %.3f' % rmse)"
      ],
      "execution_count": null,
      "outputs": []
    },
    {
      "cell_type": "markdown",
      "metadata": {
        "id": "vbHAUOG91wSX",
        "colab_type": "text"
      },
      "source": [
        "Alterando tipos de sazonalidade"
      ]
    },
    {
      "cell_type": "code",
      "metadata": {
        "id": "KyVnnCNM1-dt",
        "colab_type": "code",
        "colab": {}
      },
      "source": [
        "# cria um modelo com sazonalidade  multiplicativa e desligando a sazonalidade diária\n",
        "model = Prophet(seasonality_mode='multiplicative', daily_seasonality=False, )"
      ],
      "execution_count": null,
      "outputs": []
    },
    {
      "cell_type": "code",
      "metadata": {
        "id": "WbEpI72HN7f-",
        "colab_type": "code",
        "colab": {}
      },
      "source": [
        "model.fit(dataframe)"
      ],
      "execution_count": null,
      "outputs": []
    },
    {
      "cell_type": "code",
      "metadata": {
        "id": "hATanI-AghfK",
        "colab_type": "code",
        "colab": {}
      },
      "source": [
        "# imprime a sazonalidade habilitada\n",
        "model.seasonalities"
      ],
      "execution_count": null,
      "outputs": []
    },
    {
      "cell_type": "code",
      "metadata": {
        "id": "EvJAAJ-hOBFD",
        "colab_type": "code",
        "colab": {}
      },
      "source": [
        "# cria o dataframe de validação\n",
        "validation_df = pd.DataFrame({'ds': validation.index})"
      ],
      "execution_count": null,
      "outputs": []
    },
    {
      "cell_type": "code",
      "metadata": {
        "id": "mtoFIDo0ODRG",
        "colab_type": "code",
        "colab": {}
      },
      "source": [
        "# prevendo dados\n",
        "saida = model.predict(validation_df)"
      ],
      "execution_count": null,
      "outputs": []
    },
    {
      "cell_type": "code",
      "metadata": {
        "id": "y1f8BHw7OK7T",
        "colab_type": "code",
        "colab": {}
      },
      "source": [
        "# Avaliando os resultados\n",
        "from sklearn.metrics import mean_squared_error\n",
        "from math import sqrt\n",
        "rmse = sqrt(mean_squared_error(validation.values, saida.yhat))\n",
        "print('Test RMSE: %.3f' % rmse)"
      ],
      "execution_count": null,
      "outputs": []
    },
    {
      "cell_type": "code",
      "metadata": {
        "id": "JzxPdbvY-ZZ5",
        "colab_type": "code",
        "colab": {}
      },
      "source": [
        ""
      ],
      "execution_count": null,
      "outputs": []
    }
  ]
}